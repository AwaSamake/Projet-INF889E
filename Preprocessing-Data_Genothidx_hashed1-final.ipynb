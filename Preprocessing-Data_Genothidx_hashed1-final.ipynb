{
 "cells": [
  {
   "cell_type": "markdown",
   "metadata": {},
   "source": [
    "# Importing Librairies"
   ]
  },
  {
   "cell_type": "code",
   "execution_count": 1,
   "metadata": {},
   "outputs": [],
   "source": [
    "import numpy as np\n",
    "import pandas as pd\n",
    "\n",
    "from sklearn.preprocessing import LabelEncoder\n",
    "from sklearn.preprocessing import OrdinalEncoder\n",
    "\n",
    "######\n",
    "\n",
    "#########\n",
    "\n",
    "import matplotlib.pyplot as plt\n",
    "\n",
    "%matplotlib inline"
   ]
  },
  {
   "cell_type": "markdown",
   "metadata": {},
   "source": [
    "# Defining Functions"
   ]
  },
  {
   "cell_type": "code",
   "execution_count": 2,
   "metadata": {},
   "outputs": [],
   "source": [
    "def OneHotEncoder_label(data):\n",
    "    label_encoder = LabelEncoder() #OrdinalEncoder() \n",
    "    data0 = data.copy()\n",
    "    for i in data0.columns:\n",
    "        #print(i, data0[i].dtype)\n",
    "        if data0[i].dtype == \"object\":\n",
    "            data0[i] = label_encoder.fit_transform(data0[i].astype(str)).astype('float64')\n",
    "    return data0"
   ]
  },
  {
   "cell_type": "code",
   "execution_count": 3,
   "metadata": {},
   "outputs": [],
   "source": [
    "def Downcast(df):\n",
    "    '''Downcasts df columns to smaller columns types'''\n",
    "    for col in df.columns:\n",
    "        try:\n",
    "            df[col]=pd.to_numeric(df[col],downcast='float')\n",
    "            df[col]=pd.to_numeric(df[col],downcast='unsigned')\n",
    "            print(col ,\"has been downcasted to\", df[col].dtypes)\n",
    "        except:\n",
    "            #If it doesn't downcast, aware the user\n",
    "            print(col ,\"has not been downcasted\")\n",
    "    return df"
   ]
  },
  {
   "cell_type": "markdown",
   "metadata": {},
   "source": [
    "# Data Loading"
   ]
  },
  {
   "cell_type": "code",
   "execution_count": 4,
   "metadata": {
    "scrolled": true
   },
   "outputs": [
    {
     "data": {
      "text/html": [
       "<div>\n",
       "<style scoped>\n",
       "    .dataframe tbody tr th:only-of-type {\n",
       "        vertical-align: middle;\n",
       "    }\n",
       "\n",
       "    .dataframe tbody tr th {\n",
       "        vertical-align: top;\n",
       "    }\n",
       "\n",
       "    .dataframe thead th {\n",
       "        text-align: right;\n",
       "    }\n",
       "</style>\n",
       "<table border=\"1\" class=\"dataframe\">\n",
       "  <thead>\n",
       "    <tr style=\"text-align: right;\">\n",
       "      <th></th>\n",
       "      <th>Unnamed: 0</th>\n",
       "      <th>Unnamed: 0_x</th>\n",
       "      <th>HRD_ID</th>\n",
       "      <th>HRD_PRV_CD</th>\n",
       "      <th>ANM_ID</th>\n",
       "      <th>ENTER_HERD_DATE</th>\n",
       "      <th>COMPTR_NO</th>\n",
       "      <th>REGION</th>\n",
       "      <th>BIRTH_DATE_x</th>\n",
       "      <th>LEFT_HERD_DATE</th>\n",
       "      <th>...</th>\n",
       "      <th>HL</th>\n",
       "      <th>MSP</th>\n",
       "      <th>MT</th>\n",
       "      <th>DF</th>\n",
       "      <th>CA</th>\n",
       "      <th>DCA</th>\n",
       "      <th>BCS</th>\n",
       "      <th>MR</th>\n",
       "      <th>THURL_PLACE</th>\n",
       "      <th>MDR</th>\n",
       "    </tr>\n",
       "  </thead>\n",
       "  <tbody>\n",
       "    <tr>\n",
       "      <th>0</th>\n",
       "      <td>0</td>\n",
       "      <td>39</td>\n",
       "      <td>4162</td>\n",
       "      <td>4</td>\n",
       "      <td>1882</td>\n",
       "      <td>2003-08-14</td>\n",
       "      <td>391.0</td>\n",
       "      <td>16</td>\n",
       "      <td>2003-08-14</td>\n",
       "      <td>2011-12-07</td>\n",
       "      <td>...</td>\n",
       "      <td>97.0</td>\n",
       "      <td>100.0</td>\n",
       "      <td>101.0</td>\n",
       "      <td>99.0</td>\n",
       "      <td>93.0</td>\n",
       "      <td>96.0</td>\n",
       "      <td>100.0</td>\n",
       "      <td>95.0</td>\n",
       "      <td>-2.0</td>\n",
       "      <td>97.0</td>\n",
       "    </tr>\n",
       "    <tr>\n",
       "      <th>1</th>\n",
       "      <td>1</td>\n",
       "      <td>39</td>\n",
       "      <td>4162</td>\n",
       "      <td>4</td>\n",
       "      <td>1882</td>\n",
       "      <td>2003-08-14</td>\n",
       "      <td>391.0</td>\n",
       "      <td>16</td>\n",
       "      <td>2003-08-14</td>\n",
       "      <td>2011-12-07</td>\n",
       "      <td>...</td>\n",
       "      <td>97.0</td>\n",
       "      <td>100.0</td>\n",
       "      <td>101.0</td>\n",
       "      <td>99.0</td>\n",
       "      <td>93.0</td>\n",
       "      <td>96.0</td>\n",
       "      <td>100.0</td>\n",
       "      <td>95.0</td>\n",
       "      <td>-2.0</td>\n",
       "      <td>97.0</td>\n",
       "    </tr>\n",
       "    <tr>\n",
       "      <th>2</th>\n",
       "      <td>2</td>\n",
       "      <td>39</td>\n",
       "      <td>4162</td>\n",
       "      <td>4</td>\n",
       "      <td>1882</td>\n",
       "      <td>2003-08-14</td>\n",
       "      <td>391.0</td>\n",
       "      <td>16</td>\n",
       "      <td>2003-08-14</td>\n",
       "      <td>2011-12-07</td>\n",
       "      <td>...</td>\n",
       "      <td>97.0</td>\n",
       "      <td>100.0</td>\n",
       "      <td>101.0</td>\n",
       "      <td>99.0</td>\n",
       "      <td>93.0</td>\n",
       "      <td>96.0</td>\n",
       "      <td>100.0</td>\n",
       "      <td>95.0</td>\n",
       "      <td>-2.0</td>\n",
       "      <td>97.0</td>\n",
       "    </tr>\n",
       "    <tr>\n",
       "      <th>3</th>\n",
       "      <td>3</td>\n",
       "      <td>39</td>\n",
       "      <td>4162</td>\n",
       "      <td>4</td>\n",
       "      <td>1882</td>\n",
       "      <td>2003-08-14</td>\n",
       "      <td>391.0</td>\n",
       "      <td>16</td>\n",
       "      <td>2003-08-14</td>\n",
       "      <td>2011-12-07</td>\n",
       "      <td>...</td>\n",
       "      <td>97.0</td>\n",
       "      <td>100.0</td>\n",
       "      <td>101.0</td>\n",
       "      <td>99.0</td>\n",
       "      <td>93.0</td>\n",
       "      <td>96.0</td>\n",
       "      <td>100.0</td>\n",
       "      <td>95.0</td>\n",
       "      <td>-2.0</td>\n",
       "      <td>97.0</td>\n",
       "    </tr>\n",
       "    <tr>\n",
       "      <th>4</th>\n",
       "      <td>4</td>\n",
       "      <td>39</td>\n",
       "      <td>4162</td>\n",
       "      <td>4</td>\n",
       "      <td>1882</td>\n",
       "      <td>2003-08-14</td>\n",
       "      <td>391.0</td>\n",
       "      <td>16</td>\n",
       "      <td>2003-08-14</td>\n",
       "      <td>2011-12-07</td>\n",
       "      <td>...</td>\n",
       "      <td>97.0</td>\n",
       "      <td>100.0</td>\n",
       "      <td>101.0</td>\n",
       "      <td>99.0</td>\n",
       "      <td>93.0</td>\n",
       "      <td>96.0</td>\n",
       "      <td>100.0</td>\n",
       "      <td>95.0</td>\n",
       "      <td>-2.0</td>\n",
       "      <td>97.0</td>\n",
       "    </tr>\n",
       "  </tbody>\n",
       "</table>\n",
       "<p>5 rows × 88 columns</p>\n",
       "</div>"
      ],
      "text/plain": [
       "   Unnamed: 0  Unnamed: 0_x  HRD_ID  HRD_PRV_CD  ANM_ID ENTER_HERD_DATE  \\\n",
       "0           0            39    4162           4    1882      2003-08-14   \n",
       "1           1            39    4162           4    1882      2003-08-14   \n",
       "2           2            39    4162           4    1882      2003-08-14   \n",
       "3           3            39    4162           4    1882      2003-08-14   \n",
       "4           4            39    4162           4    1882      2003-08-14   \n",
       "\n",
       "   COMPTR_NO  REGION BIRTH_DATE_x LEFT_HERD_DATE  ...    HL    MSP     MT  \\\n",
       "0      391.0      16   2003-08-14     2011-12-07  ...  97.0  100.0  101.0   \n",
       "1      391.0      16   2003-08-14     2011-12-07  ...  97.0  100.0  101.0   \n",
       "2      391.0      16   2003-08-14     2011-12-07  ...  97.0  100.0  101.0   \n",
       "3      391.0      16   2003-08-14     2011-12-07  ...  97.0  100.0  101.0   \n",
       "4      391.0      16   2003-08-14     2011-12-07  ...  97.0  100.0  101.0   \n",
       "\n",
       "     DF    CA   DCA    BCS    MR THURL_PLACE   MDR  \n",
       "0  99.0  93.0  96.0  100.0  95.0        -2.0  97.0  \n",
       "1  99.0  93.0  96.0  100.0  95.0        -2.0  97.0  \n",
       "2  99.0  93.0  96.0  100.0  95.0        -2.0  97.0  \n",
       "3  99.0  93.0  96.0  100.0  95.0        -2.0  97.0  \n",
       "4  99.0  93.0  96.0  100.0  95.0        -2.0  97.0  \n",
       "\n",
       "[5 rows x 88 columns]"
      ]
     },
     "execution_count": 4,
     "metadata": {},
     "output_type": "execute_result"
    }
   ],
   "source": [
    "# Data Animals+ Test + Genothidx(cows)\n",
    "data = pd.read_csv(\"./data_animal_test_geno_train.csv\")\n",
    "data.head()"
   ]
  },
  {
   "cell_type": "code",
   "execution_count": null,
   "metadata": {},
   "outputs": [],
   "source": []
  },
  {
   "cell_type": "markdown",
   "metadata": {},
   "source": [
    "# Data Exploration"
   ]
  },
  {
   "cell_type": "code",
   "execution_count": 5,
   "metadata": {},
   "outputs": [],
   "source": [
    "data_final = data.copy()"
   ]
  },
  {
   "cell_type": "code",
   "execution_count": 6,
   "metadata": {
    "scrolled": true
   },
   "outputs": [
    {
     "name": "stdout",
     "output_type": "stream",
     "text": [
      "(169012, 87)\n"
     ]
    }
   ],
   "source": [
    "data_final = data_final.iloc[:, 1:]\n",
    "print(data_final.shape)"
   ]
  },
  {
   "cell_type": "code",
   "execution_count": 7,
   "metadata": {
    "scrolled": true
   },
   "outputs": [
    {
     "name": "stdout",
     "output_type": "stream",
     "text": [
      "<class 'pandas.core.frame.DataFrame'>\n",
      "RangeIndex: 169012 entries, 0 to 169011\n",
      "Data columns (total 87 columns):\n",
      " #   Column               Non-Null Count   Dtype  \n",
      "---  ------               --------------   -----  \n",
      " 0   Unnamed: 0_x         169012 non-null  int64  \n",
      " 1   HRD_ID               169012 non-null  int64  \n",
      " 2   HRD_PRV_CD           169012 non-null  int64  \n",
      " 3   ANM_ID               169012 non-null  int64  \n",
      " 4   ENTER_HERD_DATE      169012 non-null  object \n",
      " 5   COMPTR_NO            169012 non-null  float64\n",
      " 6   REGION               169012 non-null  int64  \n",
      " 7   BIRTH_DATE_x         169012 non-null  object \n",
      " 8   LEFT_HERD_DATE       148920 non-null  object \n",
      " 9   LHR_CD               148920 non-null  float64\n",
      " 10  LHR_CD_2             8044 non-null    float64\n",
      " 11  ANB_CD               169012 non-null  object \n",
      " 12  COU_CD               169012 non-null  object \n",
      " 13  SEX                  169012 non-null  object \n",
      " 14  REG_ID               169008 non-null  float64\n",
      " 15  ANB_CD_DAM           162884 non-null  object \n",
      " 16  COU_CD_DAM           162884 non-null  object \n",
      " 17  DAM_SEX              162884 non-null  object \n",
      " 18  DAM_REG_ID           162884 non-null  float64\n",
      " 19  ANB_CD_SIRE          168869 non-null  object \n",
      " 20  COU_CD_SIRE          168869 non-null  object \n",
      " 21  SIRE_SEX             168869 non-null  object \n",
      " 22  SIRE_REG_ID          168869 non-null  float64\n",
      " 23  Unnamed: 0_y         169012 non-null  int64  \n",
      " 24  LACT_NO              169012 non-null  int64  \n",
      " 25  MILKNG_PTRN          169012 non-null  int64  \n",
      " 26  TEST_DATE            169012 non-null  object \n",
      " 27  ANS_CD               169012 non-null  int64  \n",
      " 28  DIM                  169004 non-null  float64\n",
      " 29  HR_24_MILK           163455 non-null  float64\n",
      " 30  SCC                  135289 non-null  float64\n",
      " 31  MUN                  67826 non-null   float64\n",
      " 32  LACTOSE              97995 non-null   float64\n",
      " 33  ABNRML_STATUS        163455 non-null  float64\n",
      " 34  MILKNG_FQCY          163455 non-null  float64\n",
      " 35  DAILY_MILK_VALUE     162887 non-null  float64\n",
      " 36  CUMUL_MILK_VALUE     140178 non-null  float64\n",
      " 37  DAILY_FEED_COST      65414 non-null   float64\n",
      " 38  CUMUL_FEED_COST      64279 non-null   float64\n",
      " 39  BHB                  23702 non-null   float64\n",
      " 40  HR_24_FT             163177 non-null  float64\n",
      " 41  HR_24_PT             163177 non-null  float64\n",
      " 42  CCD                  169012 non-null  bool   \n",
      " 43  BIRTH_DATE_y         169012 non-null  object \n",
      " 44  MaB                  169012 non-null  float64\n",
      " 45  MaBint               169012 non-null  int64  \n",
      " 46  INBREEDING           169012 non-null  float64\n",
      " 47  RVALUE               169012 non-null  float64\n",
      " 48  EBV_MILK             169012 non-null  float64\n",
      " 49  EBV_FAT              169012 non-null  float64\n",
      " 50  EBV_PROT             169012 non-null  float64\n",
      " 51  EBV_FAT_PERCENT      169012 non-null  float64\n",
      " 52  EBV_PROT_PERCENT     169012 non-null  float64\n",
      " 53  SCS                  169012 non-null  float64\n",
      " 54  RUMP_ANGLE           169012 non-null  float64\n",
      " 55  PIN_WIDTH            169012 non-null  float64\n",
      " 56  LOIN_STRENGTH        169012 non-null  float64\n",
      " 57  UDDER_DEPTH          169012 non-null  float64\n",
      " 58  UDDER_TEXTURE        169012 non-null  float64\n",
      " 59  MEDIAN_SUSP          169012 non-null  float64\n",
      " 60  FORE_ATTACH          169012 non-null  float64\n",
      " 61  FORE_TEAT_PLACE      169012 non-null  float64\n",
      " 62  REAR_ATTACH_HEIGHT   169012 non-null  float64\n",
      " 63  REAR_ATTACH_WIDTH    169012 non-null  float64\n",
      " 64  REAR_TEAT_PLACE      169012 non-null  float64\n",
      " 65  TEAT_LENGTH          169012 non-null  float64\n",
      " 66  FOOT_ANGLE           169012 non-null  float64\n",
      " 67  HEEL_DEPTH           169012 non-null  float64\n",
      " 68  BONE_QUALITY         169012 non-null  float64\n",
      " 69  REAR_LEG_SIDE_VIEW   169012 non-null  float64\n",
      " 70  REAR_LEG_REAR_VIEW   169012 non-null  float64\n",
      " 71  STATURE              169012 non-null  float64\n",
      " 72  HEIGHT_AT_FRONT_END  169012 non-null  float64\n",
      " 73  CHEST_WIDTH          169012 non-null  float64\n",
      " 74  BODY_DEPTH           169012 non-null  float64\n",
      " 75  ANGULARITY           169012 non-null  float64\n",
      " 76  LP                   169012 non-null  float64\n",
      " 77  HL                   169012 non-null  float64\n",
      " 78  MSP                  169012 non-null  float64\n",
      " 79  MT                   169012 non-null  float64\n",
      " 80  DF                   169012 non-null  float64\n",
      " 81  CA                   169012 non-null  float64\n",
      " 82  DCA                  169012 non-null  float64\n",
      " 83  BCS                  169012 non-null  float64\n",
      " 84  MR                   167861 non-null  float64\n",
      " 85  THURL_PLACE          169012 non-null  float64\n",
      " 86  MDR                  169012 non-null  float64\n",
      "dtypes: bool(1), float64(62), int64(10), object(14)\n",
      "memory usage: 111.1+ MB\n"
     ]
    }
   ],
   "source": [
    "data_final.info()"
   ]
  },
  {
   "cell_type": "code",
   "execution_count": 8,
   "metadata": {},
   "outputs": [],
   "source": [
    "pd.DataFrame(data_final.columns).to_csv('column_names_.csv')"
   ]
  },
  {
   "cell_type": "code",
   "execution_count": null,
   "metadata": {},
   "outputs": [],
   "source": []
  },
  {
   "cell_type": "code",
   "execution_count": 9,
   "metadata": {
    "scrolled": false
   },
   "outputs": [
    {
     "data": {
      "text/html": [
       "<div>\n",
       "<style scoped>\n",
       "    .dataframe tbody tr th:only-of-type {\n",
       "        vertical-align: middle;\n",
       "    }\n",
       "\n",
       "    .dataframe tbody tr th {\n",
       "        vertical-align: top;\n",
       "    }\n",
       "\n",
       "    .dataframe thead th {\n",
       "        text-align: right;\n",
       "    }\n",
       "</style>\n",
       "<table border=\"1\" class=\"dataframe\">\n",
       "  <thead>\n",
       "    <tr style=\"text-align: right;\">\n",
       "      <th></th>\n",
       "      <th>Unnamed: 0_x</th>\n",
       "      <th>HRD_ID</th>\n",
       "      <th>HRD_PRV_CD</th>\n",
       "      <th>ANM_ID</th>\n",
       "      <th>COMPTR_NO</th>\n",
       "      <th>REGION</th>\n",
       "      <th>LHR_CD</th>\n",
       "      <th>LHR_CD_2</th>\n",
       "      <th>REG_ID</th>\n",
       "      <th>DAM_REG_ID</th>\n",
       "      <th>...</th>\n",
       "      <th>HL</th>\n",
       "      <th>MSP</th>\n",
       "      <th>MT</th>\n",
       "      <th>DF</th>\n",
       "      <th>CA</th>\n",
       "      <th>DCA</th>\n",
       "      <th>BCS</th>\n",
       "      <th>MR</th>\n",
       "      <th>THURL_PLACE</th>\n",
       "      <th>MDR</th>\n",
       "    </tr>\n",
       "  </thead>\n",
       "  <tbody>\n",
       "    <tr>\n",
       "      <th>count</th>\n",
       "      <td>1.690120e+05</td>\n",
       "      <td>169012.000000</td>\n",
       "      <td>169012.0</td>\n",
       "      <td>169012.000000</td>\n",
       "      <td>169012.000000</td>\n",
       "      <td>169012.000000</td>\n",
       "      <td>148920.000000</td>\n",
       "      <td>8044.000000</td>\n",
       "      <td>1.690080e+05</td>\n",
       "      <td>1.628840e+05</td>\n",
       "      <td>...</td>\n",
       "      <td>169012.000000</td>\n",
       "      <td>169012.000000</td>\n",
       "      <td>169012.000000</td>\n",
       "      <td>169012.000000</td>\n",
       "      <td>169012.000000</td>\n",
       "      <td>169012.000000</td>\n",
       "      <td>169012.000000</td>\n",
       "      <td>167861.000000</td>\n",
       "      <td>169012.000000</td>\n",
       "      <td>169012.00000</td>\n",
       "    </tr>\n",
       "    <tr>\n",
       "      <th>mean</th>\n",
       "      <td>8.996318e+05</td>\n",
       "      <td>3379.026075</td>\n",
       "      <td>4.0</td>\n",
       "      <td>6976.788624</td>\n",
       "      <td>660.444489</td>\n",
       "      <td>10.549210</td>\n",
       "      <td>15.490424</td>\n",
       "      <td>15.966683</td>\n",
       "      <td>1.165494e+06</td>\n",
       "      <td>1.139356e+06</td>\n",
       "      <td>...</td>\n",
       "      <td>98.784151</td>\n",
       "      <td>99.351005</td>\n",
       "      <td>99.371784</td>\n",
       "      <td>100.679975</td>\n",
       "      <td>98.304972</td>\n",
       "      <td>99.143860</td>\n",
       "      <td>101.160568</td>\n",
       "      <td>98.926237</td>\n",
       "      <td>-0.157752</td>\n",
       "      <td>97.79147</td>\n",
       "    </tr>\n",
       "    <tr>\n",
       "      <th>std</th>\n",
       "      <td>6.399798e+05</td>\n",
       "      <td>1983.330868</td>\n",
       "      <td>0.0</td>\n",
       "      <td>4050.477108</td>\n",
       "      <td>459.708008</td>\n",
       "      <td>6.120943</td>\n",
       "      <td>8.009443</td>\n",
       "      <td>8.789716</td>\n",
       "      <td>6.526777e+05</td>\n",
       "      <td>6.552926e+05</td>\n",
       "      <td>...</td>\n",
       "      <td>2.685375</td>\n",
       "      <td>2.997520</td>\n",
       "      <td>2.803491</td>\n",
       "      <td>2.657272</td>\n",
       "      <td>3.436193</td>\n",
       "      <td>2.587437</td>\n",
       "      <td>2.699448</td>\n",
       "      <td>2.646734</td>\n",
       "      <td>2.861346</td>\n",
       "      <td>2.80366</td>\n",
       "    </tr>\n",
       "    <tr>\n",
       "      <th>min</th>\n",
       "      <td>3.900000e+01</td>\n",
       "      <td>2.000000</td>\n",
       "      <td>4.0</td>\n",
       "      <td>1.000000</td>\n",
       "      <td>1.000000</td>\n",
       "      <td>1.000000</td>\n",
       "      <td>1.000000</td>\n",
       "      <td>2.000000</td>\n",
       "      <td>2.900000e+01</td>\n",
       "      <td>3.380000e+02</td>\n",
       "      <td>...</td>\n",
       "      <td>89.000000</td>\n",
       "      <td>87.000000</td>\n",
       "      <td>86.000000</td>\n",
       "      <td>91.000000</td>\n",
       "      <td>81.000000</td>\n",
       "      <td>88.000000</td>\n",
       "      <td>90.000000</td>\n",
       "      <td>88.000000</td>\n",
       "      <td>-12.000000</td>\n",
       "      <td>85.00000</td>\n",
       "    </tr>\n",
       "    <tr>\n",
       "      <th>25%</th>\n",
       "      <td>3.295822e+05</td>\n",
       "      <td>1651.000000</td>\n",
       "      <td>4.0</td>\n",
       "      <td>3439.000000</td>\n",
       "      <td>402.000000</td>\n",
       "      <td>4.000000</td>\n",
       "      <td>8.000000</td>\n",
       "      <td>8.000000</td>\n",
       "      <td>6.001900e+05</td>\n",
       "      <td>5.791770e+05</td>\n",
       "      <td>...</td>\n",
       "      <td>97.000000</td>\n",
       "      <td>98.000000</td>\n",
       "      <td>98.000000</td>\n",
       "      <td>99.000000</td>\n",
       "      <td>96.000000</td>\n",
       "      <td>97.000000</td>\n",
       "      <td>99.000000</td>\n",
       "      <td>97.000000</td>\n",
       "      <td>-2.000000</td>\n",
       "      <td>96.00000</td>\n",
       "    </tr>\n",
       "    <tr>\n",
       "      <th>50%</th>\n",
       "      <td>7.845530e+05</td>\n",
       "      <td>3367.000000</td>\n",
       "      <td>4.0</td>\n",
       "      <td>6998.000000</td>\n",
       "      <td>575.000000</td>\n",
       "      <td>12.000000</td>\n",
       "      <td>14.000000</td>\n",
       "      <td>12.000000</td>\n",
       "      <td>1.167402e+06</td>\n",
       "      <td>1.131485e+06</td>\n",
       "      <td>...</td>\n",
       "      <td>99.000000</td>\n",
       "      <td>99.000000</td>\n",
       "      <td>99.000000</td>\n",
       "      <td>101.000000</td>\n",
       "      <td>99.000000</td>\n",
       "      <td>99.000000</td>\n",
       "      <td>101.000000</td>\n",
       "      <td>99.000000</td>\n",
       "      <td>0.000000</td>\n",
       "      <td>98.00000</td>\n",
       "    </tr>\n",
       "    <tr>\n",
       "      <th>75%</th>\n",
       "      <td>1.462040e+06</td>\n",
       "      <td>5105.000000</td>\n",
       "      <td>4.0</td>\n",
       "      <td>10504.000000</td>\n",
       "      <td>798.000000</td>\n",
       "      <td>16.000000</td>\n",
       "      <td>24.000000</td>\n",
       "      <td>24.000000</td>\n",
       "      <td>1.740951e+06</td>\n",
       "      <td>1.708784e+06</td>\n",
       "      <td>...</td>\n",
       "      <td>100.000000</td>\n",
       "      <td>101.000000</td>\n",
       "      <td>101.000000</td>\n",
       "      <td>102.000000</td>\n",
       "      <td>101.000000</td>\n",
       "      <td>101.000000</td>\n",
       "      <td>103.000000</td>\n",
       "      <td>101.000000</td>\n",
       "      <td>2.000000</td>\n",
       "      <td>100.00000</td>\n",
       "    </tr>\n",
       "    <tr>\n",
       "      <th>max</th>\n",
       "      <td>2.244833e+06</td>\n",
       "      <td>6792.000000</td>\n",
       "      <td>4.0</td>\n",
       "      <td>13953.000000</td>\n",
       "      <td>6182.000000</td>\n",
       "      <td>18.000000</td>\n",
       "      <td>33.000000</td>\n",
       "      <td>33.000000</td>\n",
       "      <td>2.271389e+06</td>\n",
       "      <td>2.271567e+06</td>\n",
       "      <td>...</td>\n",
       "      <td>111.000000</td>\n",
       "      <td>109.000000</td>\n",
       "      <td>109.000000</td>\n",
       "      <td>110.000000</td>\n",
       "      <td>110.000000</td>\n",
       "      <td>109.000000</td>\n",
       "      <td>112.000000</td>\n",
       "      <td>110.000000</td>\n",
       "      <td>10.000000</td>\n",
       "      <td>109.00000</td>\n",
       "    </tr>\n",
       "  </tbody>\n",
       "</table>\n",
       "<p>8 rows × 72 columns</p>\n",
       "</div>"
      ],
      "text/plain": [
       "       Unnamed: 0_x         HRD_ID  HRD_PRV_CD         ANM_ID      COMPTR_NO  \\\n",
       "count  1.690120e+05  169012.000000    169012.0  169012.000000  169012.000000   \n",
       "mean   8.996318e+05    3379.026075         4.0    6976.788624     660.444489   \n",
       "std    6.399798e+05    1983.330868         0.0    4050.477108     459.708008   \n",
       "min    3.900000e+01       2.000000         4.0       1.000000       1.000000   \n",
       "25%    3.295822e+05    1651.000000         4.0    3439.000000     402.000000   \n",
       "50%    7.845530e+05    3367.000000         4.0    6998.000000     575.000000   \n",
       "75%    1.462040e+06    5105.000000         4.0   10504.000000     798.000000   \n",
       "max    2.244833e+06    6792.000000         4.0   13953.000000    6182.000000   \n",
       "\n",
       "              REGION         LHR_CD     LHR_CD_2        REG_ID    DAM_REG_ID  \\\n",
       "count  169012.000000  148920.000000  8044.000000  1.690080e+05  1.628840e+05   \n",
       "mean       10.549210      15.490424    15.966683  1.165494e+06  1.139356e+06   \n",
       "std         6.120943       8.009443     8.789716  6.526777e+05  6.552926e+05   \n",
       "min         1.000000       1.000000     2.000000  2.900000e+01  3.380000e+02   \n",
       "25%         4.000000       8.000000     8.000000  6.001900e+05  5.791770e+05   \n",
       "50%        12.000000      14.000000    12.000000  1.167402e+06  1.131485e+06   \n",
       "75%        16.000000      24.000000    24.000000  1.740951e+06  1.708784e+06   \n",
       "max        18.000000      33.000000    33.000000  2.271389e+06  2.271567e+06   \n",
       "\n",
       "       ...             HL            MSP             MT             DF  \\\n",
       "count  ...  169012.000000  169012.000000  169012.000000  169012.000000   \n",
       "mean   ...      98.784151      99.351005      99.371784     100.679975   \n",
       "std    ...       2.685375       2.997520       2.803491       2.657272   \n",
       "min    ...      89.000000      87.000000      86.000000      91.000000   \n",
       "25%    ...      97.000000      98.000000      98.000000      99.000000   \n",
       "50%    ...      99.000000      99.000000      99.000000     101.000000   \n",
       "75%    ...     100.000000     101.000000     101.000000     102.000000   \n",
       "max    ...     111.000000     109.000000     109.000000     110.000000   \n",
       "\n",
       "                  CA            DCA            BCS             MR  \\\n",
       "count  169012.000000  169012.000000  169012.000000  167861.000000   \n",
       "mean       98.304972      99.143860     101.160568      98.926237   \n",
       "std         3.436193       2.587437       2.699448       2.646734   \n",
       "min        81.000000      88.000000      90.000000      88.000000   \n",
       "25%        96.000000      97.000000      99.000000      97.000000   \n",
       "50%        99.000000      99.000000     101.000000      99.000000   \n",
       "75%       101.000000     101.000000     103.000000     101.000000   \n",
       "max       110.000000     109.000000     112.000000     110.000000   \n",
       "\n",
       "         THURL_PLACE           MDR  \n",
       "count  169012.000000  169012.00000  \n",
       "mean       -0.157752      97.79147  \n",
       "std         2.861346       2.80366  \n",
       "min       -12.000000      85.00000  \n",
       "25%        -2.000000      96.00000  \n",
       "50%         0.000000      98.00000  \n",
       "75%         2.000000     100.00000  \n",
       "max        10.000000     109.00000  \n",
       "\n",
       "[8 rows x 72 columns]"
      ]
     },
     "execution_count": 9,
     "metadata": {},
     "output_type": "execute_result"
    }
   ],
   "source": [
    "data_final.describe()"
   ]
  },
  {
   "cell_type": "code",
   "execution_count": 10,
   "metadata": {
    "scrolled": true
   },
   "outputs": [
    {
     "name": "stdout",
     "output_type": "stream",
     "text": [
      "6326\n",
      "3568\n"
     ]
    }
   ],
   "source": [
    "print(len( pd.unique(data_final.ANM_ID)))\n",
    "print(len( pd.unique(data_final.HRD_ID)))"
   ]
  },
  {
   "cell_type": "markdown",
   "metadata": {},
   "source": [
    "### Drop irrelevant columns"
   ]
  },
  {
   "cell_type": "code",
   "execution_count": 11,
   "metadata": {},
   "outputs": [
    {
     "data": {
      "text/plain": [
       "(169012, 87)"
      ]
     },
     "execution_count": 11,
     "metadata": {},
     "output_type": "execute_result"
    }
   ],
   "source": [
    "data_final.shape"
   ]
  },
  {
   "cell_type": "code",
   "execution_count": null,
   "metadata": {},
   "outputs": [],
   "source": []
  },
  {
   "cell_type": "code",
   "execution_count": 12,
   "metadata": {},
   "outputs": [
    {
     "data": {
      "text/plain": [
       "175"
      ]
     },
     "execution_count": 12,
     "metadata": {},
     "output_type": "execute_result"
    }
   ],
   "source": [
    "birth_diff_ind = np.where( data_final.BIRTH_DATE_x != data_final.BIRTH_DATE_y )[0]\n",
    "len(birth_diff_ind)"
   ]
  },
  {
   "cell_type": "code",
   "execution_count": 13,
   "metadata": {},
   "outputs": [
    {
     "name": "stdout",
     "output_type": "stream",
     "text": [
      "[ 3854  2907  7166  1301  5578 10470 11169  6841]\n"
     ]
    }
   ],
   "source": [
    "print(pd.unique(data_final.iloc[birth_diff_ind][['ANM_ID', 'BIRTH_DATE_x', 'BIRTH_DATE_y']].ANM_ID))"
   ]
  },
  {
   "cell_type": "code",
   "execution_count": 14,
   "metadata": {
    "scrolled": true
   },
   "outputs": [
    {
     "data": {
      "text/plain": [
       "(168837, 87)"
      ]
     },
     "execution_count": 14,
     "metadata": {},
     "output_type": "execute_result"
    }
   ],
   "source": [
    "data_final = data_final.drop(birth_diff_ind, axis=0)\n",
    "data_final.shape"
   ]
  },
  {
   "cell_type": "code",
   "execution_count": null,
   "metadata": {},
   "outputs": [],
   "source": []
  },
  {
   "cell_type": "code",
   "execution_count": 15,
   "metadata": {},
   "outputs": [
    {
     "name": "stdout",
     "output_type": "stream",
     "text": [
      "SEX  ['F']\n",
      "DAM SEX  ['F' nan]\n",
      "SIRE SEX  ['M' nan]\n"
     ]
    }
   ],
   "source": [
    "print('SEX ', pd.unique(data_final.SEX) )\n",
    "print('DAM SEX ', pd.unique(data_final.DAM_SEX) )\n",
    "print('SIRE SEX ', pd.unique(data_final.SIRE_SEX) )"
   ]
  },
  {
   "cell_type": "code",
   "execution_count": 16,
   "metadata": {},
   "outputs": [],
   "source": [
    "# Unnamed: 0_x\n",
    "irrelevant_cols = ['Unnamed: 0_x', 'Unnamed: 0_y', 'SEX', 'BIRTH_DATE_y', 'SIRE_SEX', 'DAM_SEX']"
   ]
  },
  {
   "cell_type": "code",
   "execution_count": 17,
   "metadata": {},
   "outputs": [
    {
     "data": {
      "text/plain": [
       "(168837, 81)"
      ]
     },
     "execution_count": 17,
     "metadata": {},
     "output_type": "execute_result"
    }
   ],
   "source": [
    "data_final = data_final.drop(irrelevant_cols, axis=1)\n",
    "data_final.shape"
   ]
  },
  {
   "cell_type": "code",
   "execution_count": 18,
   "metadata": {},
   "outputs": [
    {
     "name": "stdout",
     "output_type": "stream",
     "text": [
      "Index(['HRD_ID', 'HRD_PRV_CD', 'ANM_ID', 'ENTER_HERD_DATE', 'COMPTR_NO',\n",
      "       'REGION', 'BIRTH_DATE', 'LEFT_HERD_DATE', 'LHR_CD', 'LHR_CD_2',\n",
      "       'ANB_CD', 'COU_CD', 'REG_ID', 'ANB_CD_DAM', 'COU_CD_DAM', 'DAM_REG_ID',\n",
      "       'ANB_CD_SIRE', 'COU_CD_SIRE', 'SIRE_REG_ID', 'LACT_NO', 'MILKNG_PTRN',\n",
      "       'TEST_DATE', 'ANS_CD', 'DIM', 'HR_24_MILK', 'SCC', 'MUN', 'LACTOSE',\n",
      "       'ABNRML_STATUS', 'MILKNG_FQCY', 'DAILY_MILK_VALUE', 'CUMUL_MILK_VALUE',\n",
      "       'DAILY_FEED_COST', 'CUMUL_FEED_COST', 'BHB', 'HR_24_FT', 'HR_24_PT',\n",
      "       'CCD', 'MaB', 'MaBint', 'INBREEDING', 'RVALUE', 'EBV_MILK', 'EBV_FAT',\n",
      "       'EBV_PROT', 'EBV_FAT_PERCENT', 'EBV_PROT_PERCENT', 'SCS', 'RUMP_ANGLE',\n",
      "       'PIN_WIDTH', 'LOIN_STRENGTH', 'UDDER_DEPTH', 'UDDER_TEXTURE',\n",
      "       'MEDIAN_SUSP', 'FORE_ATTACH', 'FORE_TEAT_PLACE', 'REAR_ATTACH_HEIGHT',\n",
      "       'REAR_ATTACH_WIDTH', 'REAR_TEAT_PLACE', 'TEAT_LENGTH', 'FOOT_ANGLE',\n",
      "       'HEEL_DEPTH', 'BONE_QUALITY', 'REAR_LEG_SIDE_VIEW',\n",
      "       'REAR_LEG_REAR_VIEW', 'STATURE', 'HEIGHT_AT_FRONT_END', 'CHEST_WIDTH',\n",
      "       'BODY_DEPTH', 'ANGULARITY', 'LP', 'HL', 'MSP', 'MT', 'DF', 'CA', 'DCA',\n",
      "       'BCS', 'MR', 'THURL_PLACE', 'MDR'],\n",
      "      dtype='object')\n"
     ]
    }
   ],
   "source": [
    "# # Renaming\n",
    "data_final = data_final.rename(columns = {'BIRTH_DATE_x': 'BIRTH_DATE'\n",
    "                                         })\n",
    "print(data_final.columns)"
   ]
  },
  {
   "cell_type": "code",
   "execution_count": null,
   "metadata": {},
   "outputs": [],
   "source": []
  },
  {
   "cell_type": "code",
   "execution_count": 19,
   "metadata": {
    "scrolled": true
   },
   "outputs": [
    {
     "name": "stdout",
     "output_type": "stream",
     "text": [
      "['ENTER_HERD_DATE', 'BIRTH_DATE', 'LEFT_HERD_DATE', 'ANB_CD', 'COU_CD', 'ANB_CD_DAM', 'COU_CD_DAM', 'ANB_CD_SIRE', 'COU_CD_SIRE', 'TEST_DATE']\n",
      "10\n"
     ]
    }
   ],
   "source": [
    "# To get the 'object' features\n",
    "list_cols_object = []\n",
    "for col in data_final.columns:\n",
    "    if data_final[col].dtypes =='object':\n",
    "        list_cols_object.append(col)\n",
    "print(list_cols_object)\n",
    "print( len(list_cols_object))"
   ]
  },
  {
   "cell_type": "code",
   "execution_count": 20,
   "metadata": {},
   "outputs": [
    {
     "data": {
      "text/plain": [
       "['ENTER_HERD_DATE', 'BIRTH_DATE', 'LEFT_HERD_DATE', 'TEST_DATE']"
      ]
     },
     "execution_count": 20,
     "metadata": {},
     "output_type": "execute_result"
    }
   ],
   "source": [
    "# to get all columns 'date'\n",
    "cols_date = []\n",
    "for col in list_cols_object:\n",
    "    if 'DATE' in col:\n",
    "        cols_date.append(col)\n",
    "cols_date"
   ]
  },
  {
   "cell_type": "code",
   "execution_count": 21,
   "metadata": {
    "scrolled": true
   },
   "outputs": [],
   "source": [
    "for date in cols_date:\n",
    "    data_final[date]= pd.to_datetime(data_final[date])\n",
    "\n",
    "# data_final.info()"
   ]
  },
  {
   "cell_type": "code",
   "execution_count": null,
   "metadata": {},
   "outputs": [],
   "source": []
  },
  {
   "cell_type": "code",
   "execution_count": 22,
   "metadata": {
    "scrolled": true
   },
   "outputs": [
    {
     "data": {
      "image/png": "[encoded data removed]",
      "text/plain": [
       "<Figure size 432x288 with 1 Axes>"
      ]
     },
     "metadata": {
      "needs_background": "light"
     },
     "output_type": "display_data"
    },
    {
     "data": {
      "image/png": "[encoded data removed]",
      "text/plain": [
       "<Figure size 432x288 with 1 Axes>"
      ]
     },
     "metadata": {
      "needs_background": "light"
     },
     "output_type": "display_data"
    },
    {
     "data": {
      "image/png": "[encoded data removed]",
      "text/plain": [
       "<Figure size 432x288 with 1 Axes>"
      ]
     },
     "metadata": {
      "needs_background": "light"
     },
     "output_type": "display_data"
    },
    {
     "data": {
      "image/png": "[encoded data removed]",
      "text/plain": [
       "<Figure size 432x288 with 1 Axes>"
      ]
     },
     "metadata": {
      "needs_background": "light"
     },
     "output_type": "display_data"
    }
   ],
   "source": [
    "for i in cols_date:\n",
    "    plt.xlabel('Date')\n",
    "# plt.ylabel('Nombre de passagers aériens')\n",
    "    plt.plot(data_final[i], data_final['DAILY_MILK_VALUE'], '.')\n",
    "    plt.title(i)\n",
    "    plt.show()"
   ]
  },
  {
   "cell_type": "code",
   "execution_count": 23,
   "metadata": {
    "scrolled": true
   },
   "outputs": [
    {
     "data": {
      "image/png": "[encoded data removed]",
      "text/plain": [
       "<Figure size 432x288 with 1 Axes>"
      ]
     },
     "metadata": {
      "needs_background": "light"
     },
     "output_type": "display_data"
    },
    {
     "data": {
      "image/png": "[encoded data removed]",
      "text/plain": [
       "<Figure size 432x288 with 1 Axes>"
      ]
     },
     "metadata": {
      "needs_background": "light"
     },
     "output_type": "display_data"
    },
    {
     "data": {
      "image/png": "[encoded data removed]",
      "text/plain": [
       "<Figure size 432x288 with 1 Axes>"
      ]
     },
     "metadata": {
      "needs_background": "light"
     },
     "output_type": "display_data"
    },
    {
     "data": {
      "image/png": "[encoded data removed]",
      "text/plain": [
       "<Figure size 432x288 with 1 Axes>"
      ]
     },
     "metadata": {
      "needs_background": "light"
     },
     "output_type": "display_data"
    }
   ],
   "source": [
    "# Profit\n",
    "for i in cols_date:\n",
    "    plt.xlabel('Date')\n",
    "# plt.ylabel('Nombre de passagers aériens')\n",
    "    plt.plot(data_final[i], data_final.DAILY_FEED_COST - data_final.DAILY_MILK_VALUE, '.')\n",
    "    plt.title(i)\n",
    "    plt.show()"
   ]
  },
  {
   "cell_type": "code",
   "execution_count": null,
   "metadata": {},
   "outputs": [],
   "source": []
  },
  {
   "cell_type": "markdown",
   "metadata": {},
   "source": [
    "### Statistics"
   ]
  },
  {
   "cell_type": "code",
   "execution_count": 24,
   "metadata": {
    "scrolled": true
   },
   "outputs": [
    {
     "data": {
      "text/html": [
       "<div>\n",
       "<style scoped>\n",
       "    .dataframe tbody tr th:only-of-type {\n",
       "        vertical-align: middle;\n",
       "    }\n",
       "\n",
       "    .dataframe tbody tr th {\n",
       "        vertical-align: top;\n",
       "    }\n",
       "\n",
       "    .dataframe thead th {\n",
       "        text-align: right;\n",
       "    }\n",
       "</style>\n",
       "<table border=\"1\" class=\"dataframe\">\n",
       "  <thead>\n",
       "    <tr style=\"text-align: right;\">\n",
       "      <th></th>\n",
       "      <th>HRD_ID</th>\n",
       "      <th>HRD_PRV_CD</th>\n",
       "      <th>ANM_ID</th>\n",
       "      <th>ENTER_HERD_DATE</th>\n",
       "      <th>COMPTR_NO</th>\n",
       "      <th>REGION</th>\n",
       "      <th>BIRTH_DATE</th>\n",
       "      <th>LEFT_HERD_DATE</th>\n",
       "      <th>LHR_CD</th>\n",
       "      <th>LHR_CD_2</th>\n",
       "      <th>...</th>\n",
       "      <th>HL</th>\n",
       "      <th>MSP</th>\n",
       "      <th>MT</th>\n",
       "      <th>DF</th>\n",
       "      <th>CA</th>\n",
       "      <th>DCA</th>\n",
       "      <th>BCS</th>\n",
       "      <th>MR</th>\n",
       "      <th>THURL_PLACE</th>\n",
       "      <th>MDR</th>\n",
       "    </tr>\n",
       "  </thead>\n",
       "  <tbody>\n",
       "    <tr>\n",
       "      <th>count</th>\n",
       "      <td>168837.000000</td>\n",
       "      <td>168837.0</td>\n",
       "      <td>168837.000000</td>\n",
       "      <td>168837</td>\n",
       "      <td>168837.000000</td>\n",
       "      <td>168837.000000</td>\n",
       "      <td>168837</td>\n",
       "      <td>148918</td>\n",
       "      <td>148918.000000</td>\n",
       "      <td>8044.000000</td>\n",
       "      <td>...</td>\n",
       "      <td>168837.000000</td>\n",
       "      <td>168837.000000</td>\n",
       "      <td>168837.000000</td>\n",
       "      <td>168837.000000</td>\n",
       "      <td>168837.000000</td>\n",
       "      <td>168837.000000</td>\n",
       "      <td>168837.000000</td>\n",
       "      <td>167688.000000</td>\n",
       "      <td>168837.000000</td>\n",
       "      <td>168837.000000</td>\n",
       "    </tr>\n",
       "    <tr>\n",
       "      <th>unique</th>\n",
       "      <td>NaN</td>\n",
       "      <td>NaN</td>\n",
       "      <td>NaN</td>\n",
       "      <td>3935</td>\n",
       "      <td>NaN</td>\n",
       "      <td>NaN</td>\n",
       "      <td>3925</td>\n",
       "      <td>2877</td>\n",
       "      <td>NaN</td>\n",
       "      <td>NaN</td>\n",
       "      <td>...</td>\n",
       "      <td>NaN</td>\n",
       "      <td>NaN</td>\n",
       "      <td>NaN</td>\n",
       "      <td>NaN</td>\n",
       "      <td>NaN</td>\n",
       "      <td>NaN</td>\n",
       "      <td>NaN</td>\n",
       "      <td>NaN</td>\n",
       "      <td>NaN</td>\n",
       "      <td>NaN</td>\n",
       "    </tr>\n",
       "    <tr>\n",
       "      <th>top</th>\n",
       "      <td>NaN</td>\n",
       "      <td>NaN</td>\n",
       "      <td>NaN</td>\n",
       "      <td>2005-11-01 00:00:00</td>\n",
       "      <td>NaN</td>\n",
       "      <td>NaN</td>\n",
       "      <td>2004-03-02 00:00:00</td>\n",
       "      <td>2012-06-20 00:00:00</td>\n",
       "      <td>NaN</td>\n",
       "      <td>NaN</td>\n",
       "      <td>...</td>\n",
       "      <td>NaN</td>\n",
       "      <td>NaN</td>\n",
       "      <td>NaN</td>\n",
       "      <td>NaN</td>\n",
       "      <td>NaN</td>\n",
       "      <td>NaN</td>\n",
       "      <td>NaN</td>\n",
       "      <td>NaN</td>\n",
       "      <td>NaN</td>\n",
       "      <td>NaN</td>\n",
       "    </tr>\n",
       "    <tr>\n",
       "      <th>freq</th>\n",
       "      <td>NaN</td>\n",
       "      <td>NaN</td>\n",
       "      <td>NaN</td>\n",
       "      <td>368</td>\n",
       "      <td>NaN</td>\n",
       "      <td>NaN</td>\n",
       "      <td>323</td>\n",
       "      <td>309</td>\n",
       "      <td>NaN</td>\n",
       "      <td>NaN</td>\n",
       "      <td>...</td>\n",
       "      <td>NaN</td>\n",
       "      <td>NaN</td>\n",
       "      <td>NaN</td>\n",
       "      <td>NaN</td>\n",
       "      <td>NaN</td>\n",
       "      <td>NaN</td>\n",
       "      <td>NaN</td>\n",
       "      <td>NaN</td>\n",
       "      <td>NaN</td>\n",
       "      <td>NaN</td>\n",
       "    </tr>\n",
       "    <tr>\n",
       "      <th>first</th>\n",
       "      <td>NaN</td>\n",
       "      <td>NaN</td>\n",
       "      <td>NaN</td>\n",
       "      <td>1996-05-12 00:00:00</td>\n",
       "      <td>NaN</td>\n",
       "      <td>NaN</td>\n",
       "      <td>1994-02-09 00:00:00</td>\n",
       "      <td>2006-01-02 00:00:00</td>\n",
       "      <td>NaN</td>\n",
       "      <td>NaN</td>\n",
       "      <td>...</td>\n",
       "      <td>NaN</td>\n",
       "      <td>NaN</td>\n",
       "      <td>NaN</td>\n",
       "      <td>NaN</td>\n",
       "      <td>NaN</td>\n",
       "      <td>NaN</td>\n",
       "      <td>NaN</td>\n",
       "      <td>NaN</td>\n",
       "      <td>NaN</td>\n",
       "      <td>NaN</td>\n",
       "    </tr>\n",
       "    <tr>\n",
       "      <th>last</th>\n",
       "      <td>NaN</td>\n",
       "      <td>NaN</td>\n",
       "      <td>NaN</td>\n",
       "      <td>2017-12-01 00:00:00</td>\n",
       "      <td>NaN</td>\n",
       "      <td>NaN</td>\n",
       "      <td>2016-02-13 00:00:00</td>\n",
       "      <td>2018-04-02 00:00:00</td>\n",
       "      <td>NaN</td>\n",
       "      <td>NaN</td>\n",
       "      <td>...</td>\n",
       "      <td>NaN</td>\n",
       "      <td>NaN</td>\n",
       "      <td>NaN</td>\n",
       "      <td>NaN</td>\n",
       "      <td>NaN</td>\n",
       "      <td>NaN</td>\n",
       "      <td>NaN</td>\n",
       "      <td>NaN</td>\n",
       "      <td>NaN</td>\n",
       "      <td>NaN</td>\n",
       "    </tr>\n",
       "    <tr>\n",
       "      <th>mean</th>\n",
       "      <td>3379.340068</td>\n",
       "      <td>4.0</td>\n",
       "      <td>6977.998093</td>\n",
       "      <td>NaN</td>\n",
       "      <td>660.317928</td>\n",
       "      <td>10.549974</td>\n",
       "      <td>NaN</td>\n",
       "      <td>NaN</td>\n",
       "      <td>15.490606</td>\n",
       "      <td>15.966683</td>\n",
       "      <td>...</td>\n",
       "      <td>98.782885</td>\n",
       "      <td>99.351031</td>\n",
       "      <td>99.369676</td>\n",
       "      <td>100.680420</td>\n",
       "      <td>98.303660</td>\n",
       "      <td>99.143482</td>\n",
       "      <td>101.160907</td>\n",
       "      <td>98.926071</td>\n",
       "      <td>-0.160385</td>\n",
       "      <td>97.791337</td>\n",
       "    </tr>\n",
       "    <tr>\n",
       "      <th>std</th>\n",
       "      <td>1983.447144</td>\n",
       "      <td>0.0</td>\n",
       "      <td>4050.936731</td>\n",
       "      <td>NaN</td>\n",
       "      <td>459.899031</td>\n",
       "      <td>6.119281</td>\n",
       "      <td>NaN</td>\n",
       "      <td>NaN</td>\n",
       "      <td>8.009345</td>\n",
       "      <td>8.789716</td>\n",
       "      <td>...</td>\n",
       "      <td>2.685037</td>\n",
       "      <td>2.998152</td>\n",
       "      <td>2.803614</td>\n",
       "      <td>2.658115</td>\n",
       "      <td>3.436914</td>\n",
       "      <td>2.587523</td>\n",
       "      <td>2.699929</td>\n",
       "      <td>2.647815</td>\n",
       "      <td>2.861071</td>\n",
       "      <td>2.803100</td>\n",
       "    </tr>\n",
       "    <tr>\n",
       "      <th>min</th>\n",
       "      <td>2.000000</td>\n",
       "      <td>4.0</td>\n",
       "      <td>1.000000</td>\n",
       "      <td>NaN</td>\n",
       "      <td>1.000000</td>\n",
       "      <td>1.000000</td>\n",
       "      <td>NaN</td>\n",
       "      <td>NaN</td>\n",
       "      <td>1.000000</td>\n",
       "      <td>2.000000</td>\n",
       "      <td>...</td>\n",
       "      <td>89.000000</td>\n",
       "      <td>87.000000</td>\n",
       "      <td>86.000000</td>\n",
       "      <td>91.000000</td>\n",
       "      <td>81.000000</td>\n",
       "      <td>88.000000</td>\n",
       "      <td>90.000000</td>\n",
       "      <td>88.000000</td>\n",
       "      <td>-12.000000</td>\n",
       "      <td>85.000000</td>\n",
       "    </tr>\n",
       "    <tr>\n",
       "      <th>25%</th>\n",
       "      <td>1653.000000</td>\n",
       "      <td>4.0</td>\n",
       "      <td>3443.000000</td>\n",
       "      <td>NaN</td>\n",
       "      <td>402.000000</td>\n",
       "      <td>4.000000</td>\n",
       "      <td>NaN</td>\n",
       "      <td>NaN</td>\n",
       "      <td>8.000000</td>\n",
       "      <td>8.000000</td>\n",
       "      <td>...</td>\n",
       "      <td>97.000000</td>\n",
       "      <td>98.000000</td>\n",
       "      <td>98.000000</td>\n",
       "      <td>99.000000</td>\n",
       "      <td>96.000000</td>\n",
       "      <td>97.000000</td>\n",
       "      <td>99.000000</td>\n",
       "      <td>97.000000</td>\n",
       "      <td>-2.000000</td>\n",
       "      <td>96.000000</td>\n",
       "    </tr>\n",
       "    <tr>\n",
       "      <th>50%</th>\n",
       "      <td>3367.000000</td>\n",
       "      <td>4.0</td>\n",
       "      <td>6998.000000</td>\n",
       "      <td>NaN</td>\n",
       "      <td>575.000000</td>\n",
       "      <td>12.000000</td>\n",
       "      <td>NaN</td>\n",
       "      <td>NaN</td>\n",
       "      <td>14.000000</td>\n",
       "      <td>12.000000</td>\n",
       "      <td>...</td>\n",
       "      <td>99.000000</td>\n",
       "      <td>99.000000</td>\n",
       "      <td>99.000000</td>\n",
       "      <td>101.000000</td>\n",
       "      <td>99.000000</td>\n",
       "      <td>99.000000</td>\n",
       "      <td>101.000000</td>\n",
       "      <td>99.000000</td>\n",
       "      <td>0.000000</td>\n",
       "      <td>98.000000</td>\n",
       "    </tr>\n",
       "    <tr>\n",
       "      <th>75%</th>\n",
       "      <td>5105.000000</td>\n",
       "      <td>4.0</td>\n",
       "      <td>10505.000000</td>\n",
       "      <td>NaN</td>\n",
       "      <td>798.000000</td>\n",
       "      <td>16.000000</td>\n",
       "      <td>NaN</td>\n",
       "      <td>NaN</td>\n",
       "      <td>24.000000</td>\n",
       "      <td>24.000000</td>\n",
       "      <td>...</td>\n",
       "      <td>100.000000</td>\n",
       "      <td>101.000000</td>\n",
       "      <td>101.000000</td>\n",
       "      <td>102.000000</td>\n",
       "      <td>101.000000</td>\n",
       "      <td>101.000000</td>\n",
       "      <td>103.000000</td>\n",
       "      <td>101.000000</td>\n",
       "      <td>2.000000</td>\n",
       "      <td>100.000000</td>\n",
       "    </tr>\n",
       "    <tr>\n",
       "      <th>max</th>\n",
       "      <td>6792.000000</td>\n",
       "      <td>4.0</td>\n",
       "      <td>13953.000000</td>\n",
       "      <td>NaN</td>\n",
       "      <td>6182.000000</td>\n",
       "      <td>18.000000</td>\n",
       "      <td>NaN</td>\n",
       "      <td>NaN</td>\n",
       "      <td>33.000000</td>\n",
       "      <td>33.000000</td>\n",
       "      <td>...</td>\n",
       "      <td>111.000000</td>\n",
       "      <td>109.000000</td>\n",
       "      <td>109.000000</td>\n",
       "      <td>110.000000</td>\n",
       "      <td>110.000000</td>\n",
       "      <td>109.000000</td>\n",
       "      <td>112.000000</td>\n",
       "      <td>110.000000</td>\n",
       "      <td>10.000000</td>\n",
       "      <td>109.000000</td>\n",
       "    </tr>\n",
       "  </tbody>\n",
       "</table>\n",
       "<p>13 rows × 81 columns</p>\n",
       "</div>"
      ],
      "text/plain": [
       "               HRD_ID  HRD_PRV_CD         ANM_ID      ENTER_HERD_DATE  \\\n",
       "count   168837.000000    168837.0  168837.000000               168837   \n",
       "unique            NaN         NaN            NaN                 3935   \n",
       "top               NaN         NaN            NaN  2005-11-01 00:00:00   \n",
       "freq              NaN         NaN            NaN                  368   \n",
       "first             NaN         NaN            NaN  1996-05-12 00:00:00   \n",
       "last              NaN         NaN            NaN  2017-12-01 00:00:00   \n",
       "mean      3379.340068         4.0    6977.998093                  NaN   \n",
       "std       1983.447144         0.0    4050.936731                  NaN   \n",
       "min          2.000000         4.0       1.000000                  NaN   \n",
       "25%       1653.000000         4.0    3443.000000                  NaN   \n",
       "50%       3367.000000         4.0    6998.000000                  NaN   \n",
       "75%       5105.000000         4.0   10505.000000                  NaN   \n",
       "max       6792.000000         4.0   13953.000000                  NaN   \n",
       "\n",
       "            COMPTR_NO         REGION           BIRTH_DATE  \\\n",
       "count   168837.000000  168837.000000               168837   \n",
       "unique            NaN            NaN                 3925   \n",
       "top               NaN            NaN  2004-03-02 00:00:00   \n",
       "freq              NaN            NaN                  323   \n",
       "first             NaN            NaN  1994-02-09 00:00:00   \n",
       "last              NaN            NaN  2016-02-13 00:00:00   \n",
       "mean       660.317928      10.549974                  NaN   \n",
       "std        459.899031       6.119281                  NaN   \n",
       "min          1.000000       1.000000                  NaN   \n",
       "25%        402.000000       4.000000                  NaN   \n",
       "50%        575.000000      12.000000                  NaN   \n",
       "75%        798.000000      16.000000                  NaN   \n",
       "max       6182.000000      18.000000                  NaN   \n",
       "\n",
       "             LEFT_HERD_DATE         LHR_CD     LHR_CD_2  ...             HL  \\\n",
       "count                148918  148918.000000  8044.000000  ...  168837.000000   \n",
       "unique                 2877            NaN          NaN  ...            NaN   \n",
       "top     2012-06-20 00:00:00            NaN          NaN  ...            NaN   \n",
       "freq                    309            NaN          NaN  ...            NaN   \n",
       "first   2006-01-02 00:00:00            NaN          NaN  ...            NaN   \n",
       "last    2018-04-02 00:00:00            NaN          NaN  ...            NaN   \n",
       "mean                    NaN      15.490606    15.966683  ...      98.782885   \n",
       "std                     NaN       8.009345     8.789716  ...       2.685037   \n",
       "min                     NaN       1.000000     2.000000  ...      89.000000   \n",
       "25%                     NaN       8.000000     8.000000  ...      97.000000   \n",
       "50%                     NaN      14.000000    12.000000  ...      99.000000   \n",
       "75%                     NaN      24.000000    24.000000  ...     100.000000   \n",
       "max                     NaN      33.000000    33.000000  ...     111.000000   \n",
       "\n",
       "                  MSP             MT             DF             CA  \\\n",
       "count   168837.000000  168837.000000  168837.000000  168837.000000   \n",
       "unique            NaN            NaN            NaN            NaN   \n",
       "top               NaN            NaN            NaN            NaN   \n",
       "freq              NaN            NaN            NaN            NaN   \n",
       "first             NaN            NaN            NaN            NaN   \n",
       "last              NaN            NaN            NaN            NaN   \n",
       "mean        99.351031      99.369676     100.680420      98.303660   \n",
       "std          2.998152       2.803614       2.658115       3.436914   \n",
       "min         87.000000      86.000000      91.000000      81.000000   \n",
       "25%         98.000000      98.000000      99.000000      96.000000   \n",
       "50%         99.000000      99.000000     101.000000      99.000000   \n",
       "75%        101.000000     101.000000     102.000000     101.000000   \n",
       "max        109.000000     109.000000     110.000000     110.000000   \n",
       "\n",
       "                  DCA            BCS             MR    THURL_PLACE  \\\n",
       "count   168837.000000  168837.000000  167688.000000  168837.000000   \n",
       "unique            NaN            NaN            NaN            NaN   \n",
       "top               NaN            NaN            NaN            NaN   \n",
       "freq              NaN            NaN            NaN            NaN   \n",
       "first             NaN            NaN            NaN            NaN   \n",
       "last              NaN            NaN            NaN            NaN   \n",
       "mean        99.143482     101.160907      98.926071      -0.160385   \n",
       "std          2.587523       2.699929       2.647815       2.861071   \n",
       "min         88.000000      90.000000      88.000000     -12.000000   \n",
       "25%         97.000000      99.000000      97.000000      -2.000000   \n",
       "50%         99.000000     101.000000      99.000000       0.000000   \n",
       "75%        101.000000     103.000000     101.000000       2.000000   \n",
       "max        109.000000     112.000000     110.000000      10.000000   \n",
       "\n",
       "                  MDR  \n",
       "count   168837.000000  \n",
       "unique            NaN  \n",
       "top               NaN  \n",
       "freq              NaN  \n",
       "first             NaN  \n",
       "last              NaN  \n",
       "mean        97.791337  \n",
       "std          2.803100  \n",
       "min         85.000000  \n",
       "25%         96.000000  \n",
       "50%         98.000000  \n",
       "75%        100.000000  \n",
       "max        109.000000  \n",
       "\n",
       "[13 rows x 81 columns]"
      ]
     },
     "execution_count": 24,
     "metadata": {},
     "output_type": "execute_result"
    }
   ],
   "source": [
    "## Data Description (analyse descriptive)\n",
    "data_final.describe(include='all')"
   ]
  },
  {
   "cell_type": "code",
   "execution_count": 25,
   "metadata": {
    "scrolled": true
   },
   "outputs": [
    {
     "name": "stdout",
     "output_type": "stream",
     "text": [
      "25\n",
      "LEFT_HERD_DATE       19919\n",
      "LHR_CD               19919\n",
      "LHR_CD_2            160793\n",
      "REG_ID                   4\n",
      "ANB_CD_DAM            6057\n",
      "COU_CD_DAM            6057\n",
      "DAM_REG_ID            6057\n",
      "ANB_CD_SIRE            114\n",
      "COU_CD_SIRE            114\n",
      "SIRE_REG_ID            114\n",
      "DIM                      8\n",
      "HR_24_MILK            5556\n",
      "SCC                  33702\n",
      "MUN                 101112\n",
      "LACTOSE              70986\n",
      "ABNRML_STATUS         5556\n",
      "MILKNG_FQCY           5556\n",
      "DAILY_MILK_VALUE      6124\n",
      "CUMUL_MILK_VALUE     28815\n",
      "DAILY_FEED_COST     103437\n",
      "CUMUL_FEED_COST     104569\n",
      "BHB                 145246\n",
      "HR_24_FT              5834\n",
      "HR_24_PT              5834\n",
      "MR                    1149\n",
      "dtype: int64\n"
     ]
    }
   ],
   "source": [
    "data_isna = data_final.isna().sum()\n",
    "print(len(data_isna[np.where(data_isna>0)[0]]))\n",
    "print(data_isna[np.where(data_isna>0)[0]])"
   ]
  },
  {
   "cell_type": "code",
   "execution_count": 26,
   "metadata": {},
   "outputs": [
    {
     "name": "stdout",
     "output_type": "stream",
     "text": [
      "LHR_CD_2           160793\n",
      "MUN                101112\n",
      "LACTOSE             70986\n",
      "DAILY_FEED_COST    103437\n",
      "CUMUL_FEED_COST    104569\n",
      "BHB                145246\n",
      "dtype: int64\n"
     ]
    }
   ],
   "source": [
    "print(data_isna[np.where(data_isna > int(data_final.shape[0]/3))[0]])"
   ]
  },
  {
   "cell_type": "code",
   "execution_count": 27,
   "metadata": {
    "scrolled": false
   },
   "outputs": [
    {
     "name": "stdout",
     "output_type": "stream",
     "text": [
      "Index(['LHR_CD_2', 'MUN', 'DAILY_FEED_COST', 'CUMUL_FEED_COST', 'BHB'], dtype='object')\n",
      "LHR_CD_2           160793\n",
      "MUN                101112\n",
      "DAILY_FEED_COST    103437\n",
      "CUMUL_FEED_COST    104569\n",
      "BHB                145246\n",
      "dtype: int64\n"
     ]
    }
   ],
   "source": [
    "print(data_isna[np.where(data_isna > int(data_final.shape[0]/2))[0]].index)\n",
    "print(data_isna[np.where(data_isna > int(data_final.shape[0]/2))[0]])"
   ]
  },
  {
   "cell_type": "code",
   "execution_count": 28,
   "metadata": {},
   "outputs": [],
   "source": [
    "# data_final = "
   ]
  },
  {
   "cell_type": "code",
   "execution_count": 29,
   "metadata": {
    "scrolled": true
   },
   "outputs": [
    {
     "name": "stdout",
     "output_type": "stream",
     "text": [
      "LHR_CD_2    58672\n",
      "BHB         54542\n",
      "dtype: int64\n"
     ]
    }
   ],
   "source": [
    "data_final = data_final.dropna(axis=0, subset=['DAILY_FEED_COST', 'CUMUL_FEED_COST'])\n",
    "\n",
    "data_final_isna = data_final.isna().sum()\n",
    "print(data_final_isna[np.where(data_final_isna > int(data_final.shape[0]/2))[0]])"
   ]
  },
  {
   "cell_type": "code",
   "execution_count": 30,
   "metadata": {},
   "outputs": [
    {
     "data": {
      "text/plain": [
       "(62171, 81)"
      ]
     },
     "execution_count": 30,
     "metadata": {},
     "output_type": "execute_result"
    }
   ],
   "source": [
    "data_final.shape"
   ]
  },
  {
   "cell_type": "code",
   "execution_count": 31,
   "metadata": {
    "scrolled": true
   },
   "outputs": [],
   "source": [
    "# data_final.loc[np.where(data_final.groupby('BIRTH_DATE').count()>1)[0], ['HRD_ID', 'ANM_ID', 'END_DATE', 'START_DATE', 'BIRTH_DATE']]"
   ]
  },
  {
   "cell_type": "code",
   "execution_count": null,
   "metadata": {
    "scrolled": true
   },
   "outputs": [],
   "source": []
  },
  {
   "cell_type": "code",
   "execution_count": 32,
   "metadata": {},
   "outputs": [],
   "source": [
    "# data_final.iloc[:10, :20]"
   ]
  },
  {
   "cell_type": "code",
   "execution_count": 33,
   "metadata": {},
   "outputs": [],
   "source": [
    "# data_final.iloc[:10, 20:40]"
   ]
  },
  {
   "cell_type": "code",
   "execution_count": 34,
   "metadata": {},
   "outputs": [],
   "source": [
    "# data_final.iloc[:10, 40:60]"
   ]
  },
  {
   "cell_type": "code",
   "execution_count": 35,
   "metadata": {},
   "outputs": [],
   "source": [
    "# data_final.iloc[:10, 60:80]"
   ]
  },
  {
   "cell_type": "code",
   "execution_count": 36,
   "metadata": {},
   "outputs": [],
   "source": [
    "# data_final.iloc[:10, 80:]"
   ]
  },
  {
   "cell_type": "code",
   "execution_count": null,
   "metadata": {},
   "outputs": [],
   "source": []
  },
  {
   "cell_type": "markdown",
   "metadata": {},
   "source": [
    "### Duplicate"
   ]
  },
  {
   "cell_type": "code",
   "execution_count": 37,
   "metadata": {},
   "outputs": [],
   "source": [
    "def get_index_real_dup(df):\n",
    "    '''takes a sorted table and yields the index of the real duplicates (difference smaller than 0.5 in their MaB)'''\n",
    "    \n",
    "    #Getting the table without the last one \n",
    "    tmp=pd.DataFrame(df.MaB[:-1])\n",
    "    \n",
    "    #Adding the next MaB and the ANM_ID related\n",
    "    tmp[\"MaBnext\"]=df.MaB[1:].reset_index(drop=True)\n",
    "    tmp[\"ANM_ID\"]=df.ANM_ID[:-1]\n",
    "    tmp[\"ANM_ID_next\"]=df.ANM_ID[1:].reset_index(drop=True)\n",
    "    \n",
    "    #If the two lines have the same ANM_ID we check if their MaB have less than 0.5 Month\n",
    "    tmp[\"is_near_same\"]=(tmp.ANM_ID==tmp.ANM_ID_next) & (abs(tmp.MaBnext-tmp.MaB)<0.5)\n",
    "    \n",
    "    #Get the index of the \"real_duplicates\"\n",
    "    first_double_MaB_index=tmp[tmp.is_near_same].index\n",
    "    print(\"found\",len(first_double_MaB_index),\"real duplicates\")\n",
    "    \n",
    "    return first_double_MaB_index"
   ]
  },
  {
   "cell_type": "code",
   "execution_count": 38,
   "metadata": {},
   "outputs": [],
   "source": [
    "def eliminate_real_dup(df):\n",
    "    '''takes a dataframe and yields the dataframe without any real duplicates (difference smaller than 0.5 in their MaB)'''\n",
    "    \n",
    "    #Get a counter and sort the dataframe to use get_index_real_dup\n",
    "    counter=1\n",
    "    df=df.sort_values([\"ANM_ID\",\"MaB\"]).reset_index(drop=True)\n",
    "    \n",
    "    first_double_MaB_index=get_index_real_dup(df)\n",
    "\n",
    "    #Until there are duplicates\n",
    "    while len(first_double_MaB_index)>0:\n",
    "        \n",
    "        second_double_MaB_index=first_double_MaB_index+1\n",
    "        \n",
    "        #Combine the two lines of the real_duplicates to avoiding loosing information\n",
    "        #Don't forget to drop the index if you want to combine the two df\n",
    "        first_double_MaB_df=df.loc[first_double_MaB_index,].reset_index(drop=True) \n",
    "        second_double_MaB_df=df.loc[second_double_MaB_index,].reset_index(drop=True)\n",
    "        combination=first_double_MaB_df.combine_first(second_double_MaB_df)\n",
    "        \n",
    "        #Drop the duplicates and append the combination of the two\n",
    "        to_drop=list(first_double_MaB_index)+list(second_double_MaB_index)\n",
    "        df=df.drop(to_drop)\n",
    "        df=df.append(combination)\n",
    "        \n",
    "        print(\"After pass n'\",counter,\", shape is :\",df.shape)\n",
    "        counter+=1\n",
    "        \n",
    "        #Don't forget to sort and reset the index of the dataframe before rerunning get_index_real_dup\n",
    "        df=df.sort_values([\"ANM_ID\",\"MaB\"]).reset_index(drop=True)\n",
    "        first_double_MaB_index=get_index_real_dup(df)\n",
    "        \n",
    "    print(\"\\nAfter eliminating real duplicates :\", df.shape)\n",
    "    print(len(df.ANM_ID.unique()),\"cows left.\\n\")\n",
    "    \n",
    "    return df"
   ]
  },
  {
   "cell_type": "code",
   "execution_count": null,
   "metadata": {},
   "outputs": [],
   "source": []
  },
  {
   "cell_type": "code",
   "execution_count": 39,
   "metadata": {},
   "outputs": [
    {
     "name": "stdout",
     "output_type": "stream",
     "text": [
      "found 1431 real duplicates\n",
      "After pass n' 1 , shape is : (60740, 81)\n",
      "found 0 real duplicates\n",
      "\n",
      "After eliminating real duplicates : (60740, 81)\n",
      "2978 cows left.\n",
      "\n"
     ]
    }
   ],
   "source": [
    "# \n",
    "data_final = eliminate_real_dup(data_final)"
   ]
  },
  {
   "cell_type": "code",
   "execution_count": 40,
   "metadata": {},
   "outputs": [
    {
     "name": "stdout",
     "output_type": "stream",
     "text": [
      "(60740, 81)\n"
     ]
    }
   ],
   "source": [
    "print(data_final.shape)"
   ]
  },
  {
   "cell_type": "code",
   "execution_count": null,
   "metadata": {},
   "outputs": [],
   "source": []
  },
  {
   "cell_type": "code",
   "execution_count": 41,
   "metadata": {},
   "outputs": [],
   "source": [
    "# Adding \"cumul_profit\" attribut\n",
    "def Cost_interpolation(df , prof_cols=[\"cumul_profit\"] , prod_cols=[\"CUMUL_MILK_VALUE\"] ,\n",
    "                       cost_cols=[\"CUMUL_FEED_COST\"] , group_col=\"HRD_ID\"):\n",
    "    '''Interpolating Costs using Hrd mean cost (if not available use the overall mean)'''\n",
    "    \n",
    "    #Check if the columns for profit cost and production are well defined\n",
    "    if len(prof_cols)!=len(prod_cols) or len(prof_cols)!=len(cost_cols):\n",
    "        print(\"There is something wrong with the profit columns, I changed nothing.\")\n",
    "        return df\n",
    "    \n",
    "    #For every cost impute the NaN using hrd mean cost\n",
    "    for cost in cost_cols:\n",
    "        df[cost] = df.groupby(group_col)[cost].transform(lambda x: x.fillna(x.mean()))\n",
    "        mean_cost= df[cost].mean()\n",
    "        \n",
    "### THIS HAS TO BE REFINED WHEN WE WILL HAVE HRD SIMILARITIES\n",
    "        df[cost] = df[cost].fillna(mean_cost)\n",
    "        print(\"Mean\",cost,\"=\",mean_cost)\n",
    "### This has to be refined to replace prod by zero using other variables    \n",
    "    \n",
    "    #Compute the profit for each column\n",
    "    for prof_col,prod_col,cost_col in zip(prof_cols,prod_cols,cost_cols):\n",
    "        df[prof_col]=df[prod_col]-df[cost_col]\n",
    "\n",
    "    print(\"\\nAfter adding the new variables :\",df.shape)\n",
    "    print(df['ANM_ID'].nunique(),\"cows left.\\n\")\n",
    "    \n",
    "    return df"
   ]
  },
  {
   "cell_type": "code",
   "execution_count": 42,
   "metadata": {},
   "outputs": [
    {
     "name": "stdout",
     "output_type": "stream",
     "text": [
      "Mean DAILY_FEED_COST = 4.7771661178795215\n",
      "\n",
      "After adding the new variables : (60740, 82)\n",
      "2978 cows left.\n",
      "\n",
      "Mean CUMUL_FEED_COST = 1064.3667270332564\n",
      "\n",
      "After adding the new variables : (60740, 83)\n",
      "2978 cows left.\n",
      "\n"
     ]
    }
   ],
   "source": [
    "# profit\n",
    "data_final = Cost_interpolation(df=data_final, prof_cols=[\"profit\"] , prod_cols=[\"DAILY_MILK_VALUE\"] ,\n",
    "                       cost_cols=[\"DAILY_FEED_COST\"] )\n",
    "# Cumul_profit\n",
    "data_final = Cost_interpolation(data_final)"
   ]
  },
  {
   "cell_type": "code",
   "execution_count": 43,
   "metadata": {
    "scrolled": true
   },
   "outputs": [
    {
     "data": {
      "text/plain": [
       "(60740, 83)"
      ]
     },
     "execution_count": 43,
     "metadata": {},
     "output_type": "execute_result"
    }
   ],
   "source": [
    "data_final.shape"
   ]
  },
  {
   "cell_type": "code",
   "execution_count": null,
   "metadata": {},
   "outputs": [],
   "source": []
  },
  {
   "cell_type": "markdown",
   "metadata": {},
   "source": [
    "### More Cleaning the dataset"
   ]
  },
  {
   "cell_type": "code",
   "execution_count": 44,
   "metadata": {},
   "outputs": [],
   "source": [
    "# We drop MaB"
   ]
  },
  {
   "cell_type": "code",
   "execution_count": 45,
   "metadata": {
    "scrolled": true
   },
   "outputs": [
    {
     "name": "stdout",
     "output_type": "stream",
     "text": [
      "After selecting the useful columns : (60740, 82)\n",
      "2978 cows left.\n",
      "\n"
     ]
    },
    {
     "data": {
      "text/html": [
       "<div>\n",
       "<style scoped>\n",
       "    .dataframe tbody tr th:only-of-type {\n",
       "        vertical-align: middle;\n",
       "    }\n",
       "\n",
       "    .dataframe tbody tr th {\n",
       "        vertical-align: top;\n",
       "    }\n",
       "\n",
       "    .dataframe thead th {\n",
       "        text-align: right;\n",
       "    }\n",
       "</style>\n",
       "<table border=\"1\" class=\"dataframe\">\n",
       "  <thead>\n",
       "    <tr style=\"text-align: right;\">\n",
       "      <th></th>\n",
       "      <th>HRD_ID</th>\n",
       "      <th>HRD_PRV_CD</th>\n",
       "      <th>ANM_ID</th>\n",
       "      <th>ENTER_HERD_DATE</th>\n",
       "      <th>COMPTR_NO</th>\n",
       "      <th>REGION</th>\n",
       "      <th>BIRTH_DATE</th>\n",
       "      <th>LEFT_HERD_DATE</th>\n",
       "      <th>LHR_CD</th>\n",
       "      <th>LHR_CD_2</th>\n",
       "      <th>...</th>\n",
       "      <th>MT</th>\n",
       "      <th>DF</th>\n",
       "      <th>CA</th>\n",
       "      <th>DCA</th>\n",
       "      <th>BCS</th>\n",
       "      <th>MR</th>\n",
       "      <th>THURL_PLACE</th>\n",
       "      <th>MDR</th>\n",
       "      <th>profit</th>\n",
       "      <th>cumul_profit</th>\n",
       "    </tr>\n",
       "  </thead>\n",
       "  <tbody>\n",
       "    <tr>\n",
       "      <th>0</th>\n",
       "      <td>1687</td>\n",
       "      <td>4</td>\n",
       "      <td>1</td>\n",
       "      <td>2007-03-09</td>\n",
       "      <td>508.0</td>\n",
       "      <td>12</td>\n",
       "      <td>2007-03-09</td>\n",
       "      <td>2014-12-15</td>\n",
       "      <td>14.0</td>\n",
       "      <td>NaN</td>\n",
       "      <td>...</td>\n",
       "      <td>103.0</td>\n",
       "      <td>104.0</td>\n",
       "      <td>105.0</td>\n",
       "      <td>100.0</td>\n",
       "      <td>100.0</td>\n",
       "      <td>99.0</td>\n",
       "      <td>2.0</td>\n",
       "      <td>98.0</td>\n",
       "      <td>14.13</td>\n",
       "      <td>523.0</td>\n",
       "    </tr>\n",
       "    <tr>\n",
       "      <th>1</th>\n",
       "      <td>1687</td>\n",
       "      <td>4</td>\n",
       "      <td>1</td>\n",
       "      <td>2007-03-09</td>\n",
       "      <td>508.0</td>\n",
       "      <td>12</td>\n",
       "      <td>2007-03-09</td>\n",
       "      <td>2014-12-15</td>\n",
       "      <td>14.0</td>\n",
       "      <td>NaN</td>\n",
       "      <td>...</td>\n",
       "      <td>103.0</td>\n",
       "      <td>104.0</td>\n",
       "      <td>105.0</td>\n",
       "      <td>100.0</td>\n",
       "      <td>100.0</td>\n",
       "      <td>99.0</td>\n",
       "      <td>2.0</td>\n",
       "      <td>98.0</td>\n",
       "      <td>15.17</td>\n",
       "      <td>843.0</td>\n",
       "    </tr>\n",
       "    <tr>\n",
       "      <th>2</th>\n",
       "      <td>1687</td>\n",
       "      <td>4</td>\n",
       "      <td>1</td>\n",
       "      <td>2007-03-09</td>\n",
       "      <td>508.0</td>\n",
       "      <td>12</td>\n",
       "      <td>2007-03-09</td>\n",
       "      <td>2014-12-15</td>\n",
       "      <td>14.0</td>\n",
       "      <td>NaN</td>\n",
       "      <td>...</td>\n",
       "      <td>103.0</td>\n",
       "      <td>104.0</td>\n",
       "      <td>105.0</td>\n",
       "      <td>100.0</td>\n",
       "      <td>100.0</td>\n",
       "      <td>99.0</td>\n",
       "      <td>2.0</td>\n",
       "      <td>98.0</td>\n",
       "      <td>16.12</td>\n",
       "      <td>1296.0</td>\n",
       "    </tr>\n",
       "    <tr>\n",
       "      <th>3</th>\n",
       "      <td>1687</td>\n",
       "      <td>4</td>\n",
       "      <td>1</td>\n",
       "      <td>2007-03-09</td>\n",
       "      <td>508.0</td>\n",
       "      <td>12</td>\n",
       "      <td>2007-03-09</td>\n",
       "      <td>2014-12-15</td>\n",
       "      <td>14.0</td>\n",
       "      <td>NaN</td>\n",
       "      <td>...</td>\n",
       "      <td>103.0</td>\n",
       "      <td>104.0</td>\n",
       "      <td>105.0</td>\n",
       "      <td>100.0</td>\n",
       "      <td>100.0</td>\n",
       "      <td>99.0</td>\n",
       "      <td>2.0</td>\n",
       "      <td>98.0</td>\n",
       "      <td>19.86</td>\n",
       "      <td>1918.0</td>\n",
       "    </tr>\n",
       "    <tr>\n",
       "      <th>4</th>\n",
       "      <td>1687</td>\n",
       "      <td>4</td>\n",
       "      <td>1</td>\n",
       "      <td>2007-03-09</td>\n",
       "      <td>508.0</td>\n",
       "      <td>12</td>\n",
       "      <td>2007-03-09</td>\n",
       "      <td>2014-12-15</td>\n",
       "      <td>14.0</td>\n",
       "      <td>NaN</td>\n",
       "      <td>...</td>\n",
       "      <td>103.0</td>\n",
       "      <td>104.0</td>\n",
       "      <td>105.0</td>\n",
       "      <td>100.0</td>\n",
       "      <td>100.0</td>\n",
       "      <td>99.0</td>\n",
       "      <td>2.0</td>\n",
       "      <td>98.0</td>\n",
       "      <td>15.34</td>\n",
       "      <td>2417.0</td>\n",
       "    </tr>\n",
       "  </tbody>\n",
       "</table>\n",
       "<p>5 rows × 82 columns</p>\n",
       "</div>"
      ],
      "text/plain": [
       "   HRD_ID  HRD_PRV_CD  ANM_ID ENTER_HERD_DATE  COMPTR_NO  REGION BIRTH_DATE  \\\n",
       "0    1687           4       1      2007-03-09      508.0      12 2007-03-09   \n",
       "1    1687           4       1      2007-03-09      508.0      12 2007-03-09   \n",
       "2    1687           4       1      2007-03-09      508.0      12 2007-03-09   \n",
       "3    1687           4       1      2007-03-09      508.0      12 2007-03-09   \n",
       "4    1687           4       1      2007-03-09      508.0      12 2007-03-09   \n",
       "\n",
       "  LEFT_HERD_DATE  LHR_CD  LHR_CD_2  ...     MT     DF     CA    DCA    BCS  \\\n",
       "0     2014-12-15    14.0       NaN  ...  103.0  104.0  105.0  100.0  100.0   \n",
       "1     2014-12-15    14.0       NaN  ...  103.0  104.0  105.0  100.0  100.0   \n",
       "2     2014-12-15    14.0       NaN  ...  103.0  104.0  105.0  100.0  100.0   \n",
       "3     2014-12-15    14.0       NaN  ...  103.0  104.0  105.0  100.0  100.0   \n",
       "4     2014-12-15    14.0       NaN  ...  103.0  104.0  105.0  100.0  100.0   \n",
       "\n",
       "     MR THURL_PLACE   MDR  profit  cumul_profit  \n",
       "0  99.0         2.0  98.0   14.13         523.0  \n",
       "1  99.0         2.0  98.0   15.17         843.0  \n",
       "2  99.0         2.0  98.0   16.12        1296.0  \n",
       "3  99.0         2.0  98.0   19.86        1918.0  \n",
       "4  99.0         2.0  98.0   15.34        2417.0  \n",
       "\n",
       "[5 rows x 82 columns]"
      ]
     },
     "execution_count": 45,
     "metadata": {},
     "output_type": "execute_result"
    }
   ],
   "source": [
    "#Re-ordering the columns\n",
    "data_final = data_final.drop([\"MaB\"], 1)\n",
    "\n",
    "print(\"After selecting the useful columns :\", data_final.shape)\n",
    "print(data_final.ANM_ID.nunique(),\"cows left.\\n\")\n",
    "\n",
    "data_final.head()"
   ]
  },
  {
   "cell_type": "code",
   "execution_count": 46,
   "metadata": {},
   "outputs": [
    {
     "name": "stdout",
     "output_type": "stream",
     "text": [
      "LHR_CD_2    57241\n",
      "BHB         53392\n",
      "dtype: int64\n"
     ]
    }
   ],
   "source": [
    "# Drop\n",
    "to_drop = data_isna[np.where(data_isna > int(data_final.shape[0]/2))[0]].index\n",
    "data_isna = data_final.isna().sum()\n",
    "# df2 = data_final.drop(to_drop, 1)\n",
    "# print('shape: ', df2.shape)\n",
    "print(data_isna[np.where(data_isna > int(data_final.shape[0]/2))[0]])"
   ]
  },
  {
   "cell_type": "code",
   "execution_count": null,
   "metadata": {},
   "outputs": [],
   "source": []
  },
  {
   "cell_type": "markdown",
   "metadata": {},
   "source": [
    "### Imputation Data Missing"
   ]
  },
  {
   "cell_type": "code",
   "execution_count": null,
   "metadata": {},
   "outputs": [],
   "source": []
  },
  {
   "cell_type": "markdown",
   "metadata": {},
   "source": [
    "#### Numerical Columns"
   ]
  },
  {
   "cell_type": "code",
   "execution_count": 47,
   "metadata": {},
   "outputs": [
    {
     "name": "stdout",
     "output_type": "stream",
     "text": [
      "['HRD_ID', 'HRD_PRV_CD', 'ANM_ID', 'COMPTR_NO', 'REGION', 'LHR_CD', 'LHR_CD_2', 'REG_ID', 'DAM_REG_ID', 'SIRE_REG_ID', 'LACT_NO', 'MILKNG_PTRN', 'ANS_CD', 'DIM', 'HR_24_MILK', 'SCC', 'MUN', 'LACTOSE', 'ABNRML_STATUS', 'MILKNG_FQCY', 'DAILY_MILK_VALUE', 'CUMUL_MILK_VALUE', 'DAILY_FEED_COST', 'CUMUL_FEED_COST', 'BHB', 'HR_24_FT', 'HR_24_PT', 'CCD', 'MaBint', 'INBREEDING', 'RVALUE', 'EBV_MILK', 'EBV_FAT', 'EBV_PROT', 'EBV_FAT_PERCENT', 'EBV_PROT_PERCENT', 'SCS', 'RUMP_ANGLE', 'PIN_WIDTH', 'LOIN_STRENGTH', 'UDDER_DEPTH', 'UDDER_TEXTURE', 'MEDIAN_SUSP', 'FORE_ATTACH', 'FORE_TEAT_PLACE', 'REAR_ATTACH_HEIGHT', 'REAR_ATTACH_WIDTH', 'REAR_TEAT_PLACE', 'TEAT_LENGTH', 'FOOT_ANGLE', 'HEEL_DEPTH', 'BONE_QUALITY', 'REAR_LEG_SIDE_VIEW', 'REAR_LEG_REAR_VIEW', 'STATURE', 'HEIGHT_AT_FRONT_END', 'CHEST_WIDTH', 'BODY_DEPTH', 'ANGULARITY', 'LP', 'HL', 'MSP', 'MT', 'DF', 'CA', 'DCA', 'BCS', 'MR', 'THURL_PLACE', 'MDR', 'profit', 'cumul_profit']\n",
      "72\n"
     ]
    }
   ],
   "source": [
    "# To get the 'object' features\n",
    "list_cols_numeric = []\n",
    "for col in data_final.columns:\n",
    "    if data_final[col].dtypes !='object':\n",
    "        if col in cols_date:\n",
    "            continue\n",
    "        else:\n",
    "            list_cols_numeric.append(col)\n",
    "print(list_cols_numeric)\n",
    "print( len(list_cols_numeric))"
   ]
  },
  {
   "cell_type": "code",
   "execution_count": 48,
   "metadata": {},
   "outputs": [],
   "source": [
    "# I choose mode because all variables here are \"really\" integer.\n",
    "# cols_mode = ['LHR_CD'] #[elt for elt in cols_isnan if elt in list_cols_numeric]\n",
    "# if len(cols_mode)>0:\n",
    "#     for col in cols_mode:\n",
    "#         #if col != 'HRD_ID' and col!= 'REG_ID':\n",
    "#             #print(pd.unique(df2[col]))\n",
    "#             #print(col)\n",
    "#             df2[col] = df2[col].fillna(value= df2[col].mode().iloc[0])\n",
    "\n",
    "data_final['LHR_CD_2'] = data_final['LHR_CD_2'].fillna(value= data_final['LHR_CD_2'].mode().iloc[0])\n",
    "data_final['BHB'] = data_final['BHB'].fillna(value= data_final['BHB'].mode().iloc[0])"
   ]
  },
  {
   "cell_type": "code",
   "execution_count": 49,
   "metadata": {},
   "outputs": [
    {
     "data": {
      "text/plain": [
       "(60740, 82)"
      ]
     },
     "execution_count": 49,
     "metadata": {},
     "output_type": "execute_result"
    }
   ],
   "source": [
    "data_final.shape"
   ]
  },
  {
   "cell_type": "code",
   "execution_count": 50,
   "metadata": {},
   "outputs": [],
   "source": [
    "# categorical\n",
    "cols_isnan_cat = (data_final.isna().sum())[ np.where(data_final.isna().sum() > 0)[0] ]"
   ]
  },
  {
   "cell_type": "code",
   "execution_count": 51,
   "metadata": {
    "scrolled": true
   },
   "outputs": [
    {
     "data": {
      "text/plain": [
       "LEFT_HERD_DATE       4502\n",
       "LHR_CD               4502\n",
       "ANB_CD_DAM           2495\n",
       "COU_CD_DAM           2495\n",
       "DAM_REG_ID           2495\n",
       "ANB_CD_SIRE            81\n",
       "COU_CD_SIRE            81\n",
       "SIRE_REG_ID            81\n",
       "HR_24_MILK              1\n",
       "SCC                  9857\n",
       "MUN                 29611\n",
       "LACTOSE             20008\n",
       "ABNRML_STATUS           1\n",
       "MILKNG_FQCY             1\n",
       "DAILY_MILK_VALUE      198\n",
       "CUMUL_MILK_VALUE     8029\n",
       "HR_24_FT               73\n",
       "HR_24_PT               73\n",
       "MR                    528\n",
       "profit                198\n",
       "cumul_profit         8029\n",
       "dtype: int64"
      ]
     },
     "execution_count": 51,
     "metadata": {},
     "output_type": "execute_result"
    }
   ],
   "source": [
    "data_final[ cols_isnan_cat.index ].isna().sum()"
   ]
  },
  {
   "cell_type": "code",
   "execution_count": 52,
   "metadata": {},
   "outputs": [
    {
     "data": {
      "text/plain": [
       "['LHR_CD',\n",
       " 'ANB_CD_DAM',\n",
       " 'COU_CD_DAM',\n",
       " 'DAM_REG_ID',\n",
       " 'ANB_CD_SIRE',\n",
       " 'COU_CD_SIRE',\n",
       " 'SIRE_REG_ID',\n",
       " 'HR_24_MILK',\n",
       " 'SCC',\n",
       " 'MUN',\n",
       " 'LACTOSE',\n",
       " 'ABNRML_STATUS',\n",
       " 'MILKNG_FQCY',\n",
       " 'DAILY_MILK_VALUE',\n",
       " 'CUMUL_MILK_VALUE',\n",
       " 'HR_24_FT',\n",
       " 'HR_24_PT',\n",
       " 'MR',\n",
       " 'profit',\n",
       " 'cumul_profit']"
      ]
     },
     "execution_count": 52,
     "metadata": {},
     "output_type": "execute_result"
    }
   ],
   "source": [
    "cols_isnan_cat = [elt for elt in cols_isnan_cat.index if elt not in cols_date]\n",
    "cols_isnan_cat"
   ]
  },
  {
   "cell_type": "code",
   "execution_count": 53,
   "metadata": {},
   "outputs": [],
   "source": [
    "for col in cols_isnan_cat:\n",
    "    #print(col)\n",
    "    data_final[col] = data_final[col].fillna(value= data_final[col].mode().iloc[0])"
   ]
  },
  {
   "cell_type": "code",
   "execution_count": 54,
   "metadata": {},
   "outputs": [
    {
     "name": "stdout",
     "output_type": "stream",
     "text": [
      "(60740, 82)\n"
     ]
    }
   ],
   "source": [
    "print(data_final.shape)"
   ]
  },
  {
   "cell_type": "code",
   "execution_count": 55,
   "metadata": {},
   "outputs": [
    {
     "data": {
      "text/plain": [
       "LEFT_HERD_DATE    4502\n",
       "dtype: int64"
      ]
     },
     "execution_count": 55,
     "metadata": {},
     "output_type": "execute_result"
    }
   ],
   "source": [
    "(data_final.isna().sum())[ np.where(data_final.isna().sum() > 0)[0] ]"
   ]
  },
  {
   "cell_type": "code",
   "execution_count": null,
   "metadata": {},
   "outputs": [],
   "source": []
  },
  {
   "cell_type": "code",
   "execution_count": null,
   "metadata": {},
   "outputs": [],
   "source": []
  },
  {
   "cell_type": "markdown",
   "metadata": {},
   "source": [
    "## Handling Categorical Data"
   ]
  },
  {
   "cell_type": "code",
   "execution_count": 56,
   "metadata": {
    "scrolled": true
   },
   "outputs": [],
   "source": [
    "# features.ville = pd.Categorical(features.ville)\n",
    "# features.ville = features.ville.cat.codes\n",
    "# data_month.CLVNG_EASE_2\n",
    "# cols_temp = cols_date\n",
    "# cols_temp.append('SEX_CD')\n",
    "# print(cols_temp)"
   ]
  },
  {
   "cell_type": "code",
   "execution_count": 57,
   "metadata": {},
   "outputs": [
    {
     "name": "stdout",
     "output_type": "stream",
     "text": [
      "['ANB_CD', 'COU_CD', 'ANB_CD_DAM', 'COU_CD_DAM', 'ANB_CD_SIRE', 'COU_CD_SIRE']\n",
      "6\n"
     ]
    }
   ],
   "source": [
    "# To get the 'object' features\n",
    "list_cols_object = []\n",
    "for col in data_final.columns:\n",
    "    if data_final[col].dtypes =='object':\n",
    "        list_cols_object.append(col)\n",
    "print(list_cols_object)\n",
    "print( len(list_cols_object))"
   ]
  },
  {
   "cell_type": "code",
   "execution_count": 58,
   "metadata": {},
   "outputs": [
    {
     "data": {
      "text/plain": [
       "['ANB_CD', 'COU_CD', 'ANB_CD_DAM', 'COU_CD_DAM', 'ANB_CD_SIRE', 'COU_CD_SIRE']"
      ]
     },
     "execution_count": 58,
     "metadata": {},
     "output_type": "execute_result"
    }
   ],
   "source": [
    "cols_categorical = [elt for elt in list_cols_object if elt not in cols_date]\n",
    "cols_categorical"
   ]
  },
  {
   "cell_type": "code",
   "execution_count": null,
   "metadata": {},
   "outputs": [],
   "source": []
  },
  {
   "cell_type": "code",
   "execution_count": 59,
   "metadata": {},
   "outputs": [
    {
     "data": {
      "image/png": "[encoded data removed]",
      "text/plain": [
       "<Figure size 720x720 with 1 Axes>"
      ]
     },
     "metadata": {
      "needs_background": "light"
     },
     "output_type": "display_data"
    },
    {
     "data": {
      "image/png": "[encoded data removed]",
      "text/plain": [
       "<Figure size 720x720 with 1 Axes>"
      ]
     },
     "metadata": {
      "needs_background": "light"
     },
     "output_type": "display_data"
    },
    {
     "data": {
      "image/png": "[encoded data removed]",
      "text/plain": [
       "<Figure size 720x720 with 1 Axes>"
      ]
     },
     "metadata": {
      "needs_background": "light"
     },
     "output_type": "display_data"
    },
    {
     "data": {
      "image/png": "[encoded data removed]",
      "text/plain": [
       "<Figure size 720x720 with 1 Axes>"
      ]
     },
     "metadata": {
      "needs_background": "light"
     },
     "output_type": "display_data"
    },
    {
     "data": {
      "image/png": "[encoded data removed]",
      "text/plain": [
       "<Figure size 720x720 with 1 Axes>"
      ]
     },
     "metadata": {
      "needs_background": "light"
     },
     "output_type": "display_data"
    },
    {
     "data": {
      "image/png": "[encoded data removed]",
      "text/plain": [
       "<Figure size 720x720 with 1 Axes>"
      ]
     },
     "metadata": {
      "needs_background": "light"
     },
     "output_type": "display_data"
    }
   ],
   "source": [
    "for col in cols_categorical:\n",
    "    y = col\n",
    "    plt.figure(figsize=(10,10))\n",
    "    ax = data_final[y].value_counts().sort_values().plot(kind=\"barh\")\n",
    "    totals= []\n",
    "    for i in ax.patches:\n",
    "        totals.append(i.get_width())\n",
    "    total = sum(totals)\n",
    "    for i in ax.patches:\n",
    "         ax.text(i.get_width()+.3, i.get_y()+.20, \n",
    "         str(round((i.get_width()/total)*100, 2))+'%', \n",
    "         fontsize=10, color='black')\n",
    "    ax.grid(axis=\"x\")\n",
    "    plt.suptitle(y, fontsize=20)\n",
    "    plt.show()"
   ]
  },
  {
   "cell_type": "code",
   "execution_count": null,
   "metadata": {},
   "outputs": [],
   "source": []
  },
  {
   "cell_type": "code",
   "execution_count": null,
   "metadata": {},
   "outputs": [],
   "source": [
    "\n",
    "for col in cols_categorical:\n",
    "    y = col\n",
    "    plt.figure(figsize=(10,10))\n",
    "    ax = data_final[y].value_counts().sort_values().plot(kind=\"barh\")\n",
    "    totals= []\n",
    "    for i in ax.patches:\n",
    "        totals.append(i.get_width())\n",
    "    total = sum(totals)\n",
    "    for i in ax.patches:\n",
    "         ax.text(i.get_width()+.3, i.get_y()+.20, \n",
    "         str(round((i.get_width()/total)*100, 2))+'%', \n",
    "         fontsize=10, color='black')\n",
    "    ax.grid(axis=\"x\")\n",
    "    plt.suptitle(y, fontsize=20)\n",
    "    plt.show()"
   ]
  },
  {
   "cell_type": "code",
   "execution_count": null,
   "metadata": {},
   "outputs": [],
   "source": []
  },
  {
   "cell_type": "code",
   "execution_count": 60,
   "metadata": {
    "scrolled": true
   },
   "outputs": [
    {
     "data": {
      "text/html": [
       "<div>\n",
       "<style scoped>\n",
       "    .dataframe tbody tr th:only-of-type {\n",
       "        vertical-align: middle;\n",
       "    }\n",
       "\n",
       "    .dataframe tbody tr th {\n",
       "        vertical-align: top;\n",
       "    }\n",
       "\n",
       "    .dataframe thead th {\n",
       "        text-align: right;\n",
       "    }\n",
       "</style>\n",
       "<table border=\"1\" class=\"dataframe\">\n",
       "  <thead>\n",
       "    <tr style=\"text-align: right;\">\n",
       "      <th></th>\n",
       "      <th>ANB_CD</th>\n",
       "      <th>COU_CD</th>\n",
       "      <th>ANB_CD_DAM</th>\n",
       "      <th>COU_CD_DAM</th>\n",
       "      <th>ANB_CD_SIRE</th>\n",
       "      <th>COU_CD_SIRE</th>\n",
       "    </tr>\n",
       "  </thead>\n",
       "  <tbody>\n",
       "    <tr>\n",
       "      <th>0</th>\n",
       "      <td>0</td>\n",
       "      <td>1</td>\n",
       "      <td>0</td>\n",
       "      <td>0</td>\n",
       "      <td>0</td>\n",
       "      <td>3</td>\n",
       "    </tr>\n",
       "    <tr>\n",
       "      <th>1</th>\n",
       "      <td>0</td>\n",
       "      <td>1</td>\n",
       "      <td>0</td>\n",
       "      <td>0</td>\n",
       "      <td>0</td>\n",
       "      <td>3</td>\n",
       "    </tr>\n",
       "    <tr>\n",
       "      <th>2</th>\n",
       "      <td>0</td>\n",
       "      <td>1</td>\n",
       "      <td>0</td>\n",
       "      <td>0</td>\n",
       "      <td>0</td>\n",
       "      <td>3</td>\n",
       "    </tr>\n",
       "    <tr>\n",
       "      <th>3</th>\n",
       "      <td>0</td>\n",
       "      <td>1</td>\n",
       "      <td>0</td>\n",
       "      <td>0</td>\n",
       "      <td>0</td>\n",
       "      <td>3</td>\n",
       "    </tr>\n",
       "    <tr>\n",
       "      <th>4</th>\n",
       "      <td>0</td>\n",
       "      <td>1</td>\n",
       "      <td>0</td>\n",
       "      <td>0</td>\n",
       "      <td>0</td>\n",
       "      <td>3</td>\n",
       "    </tr>\n",
       "    <tr>\n",
       "      <th>...</th>\n",
       "      <td>...</td>\n",
       "      <td>...</td>\n",
       "      <td>...</td>\n",
       "      <td>...</td>\n",
       "      <td>...</td>\n",
       "      <td>...</td>\n",
       "    </tr>\n",
       "    <tr>\n",
       "      <th>60735</th>\n",
       "      <td>3</td>\n",
       "      <td>1</td>\n",
       "      <td>3</td>\n",
       "      <td>0</td>\n",
       "      <td>3</td>\n",
       "      <td>15</td>\n",
       "    </tr>\n",
       "    <tr>\n",
       "      <th>60736</th>\n",
       "      <td>3</td>\n",
       "      <td>1</td>\n",
       "      <td>3</td>\n",
       "      <td>0</td>\n",
       "      <td>3</td>\n",
       "      <td>15</td>\n",
       "    </tr>\n",
       "    <tr>\n",
       "      <th>60737</th>\n",
       "      <td>3</td>\n",
       "      <td>1</td>\n",
       "      <td>3</td>\n",
       "      <td>0</td>\n",
       "      <td>3</td>\n",
       "      <td>15</td>\n",
       "    </tr>\n",
       "    <tr>\n",
       "      <th>60738</th>\n",
       "      <td>3</td>\n",
       "      <td>1</td>\n",
       "      <td>3</td>\n",
       "      <td>0</td>\n",
       "      <td>3</td>\n",
       "      <td>15</td>\n",
       "    </tr>\n",
       "    <tr>\n",
       "      <th>60739</th>\n",
       "      <td>3</td>\n",
       "      <td>1</td>\n",
       "      <td>3</td>\n",
       "      <td>0</td>\n",
       "      <td>3</td>\n",
       "      <td>15</td>\n",
       "    </tr>\n",
       "  </tbody>\n",
       "</table>\n",
       "<p>60740 rows × 6 columns</p>\n",
       "</div>"
      ],
      "text/plain": [
       "       ANB_CD  COU_CD  ANB_CD_DAM  COU_CD_DAM  ANB_CD_SIRE  COU_CD_SIRE\n",
       "0           0       1           0           0            0            3\n",
       "1           0       1           0           0            0            3\n",
       "2           0       1           0           0            0            3\n",
       "3           0       1           0           0            0            3\n",
       "4           0       1           0           0            0            3\n",
       "...       ...     ...         ...         ...          ...          ...\n",
       "60735       3       1           3           0            3           15\n",
       "60736       3       1           3           0            3           15\n",
       "60737       3       1           3           0            3           15\n",
       "60738       3       1           3           0            3           15\n",
       "60739       3       1           3           0            3           15\n",
       "\n",
       "[60740 rows x 6 columns]"
      ]
     },
     "execution_count": 60,
     "metadata": {},
     "output_type": "execute_result"
    }
   ],
   "source": [
    "#d = data_final.copy()\n",
    "for c in cols_categorical:\n",
    "    data_final[c] = pd.Categorical(data_final[c])\n",
    "    data_final[c] = data_final[c].cat.codes\n",
    "data_final[cols_categorical]"
   ]
  },
  {
   "cell_type": "code",
   "execution_count": 61,
   "metadata": {},
   "outputs": [
    {
     "data": {
      "text/plain": [
       "(60740, 82)"
      ]
     },
     "execution_count": 61,
     "metadata": {},
     "output_type": "execute_result"
    }
   ],
   "source": [
    "data_final.shape"
   ]
  },
  {
   "cell_type": "code",
   "execution_count": null,
   "metadata": {},
   "outputs": [],
   "source": []
  },
  {
   "cell_type": "markdown",
   "metadata": {},
   "source": [
    "### Saving"
   ]
  },
  {
   "cell_type": "code",
   "execution_count": 63,
   "metadata": {},
   "outputs": [],
   "source": [
    "data_final.to_csv('data_final_test_genothidx_preprocessed.csv') "
   ]
  },
  {
   "cell_type": "code",
   "execution_count": null,
   "metadata": {},
   "outputs": [],
   "source": []
  }
 ],
 "metadata": {
  "kernelspec": {
   "display_name": "Python 3",
   "language": "python",
   "name": "python3"
  },
  "language_info": {
   "codemirror_mode": {
    "name": "ipython",
    "version": 3
   },
   "file_extension": ".py",
   "mimetype": "text/x-python",
   "name": "python",
   "nbconvert_exporter": "python",
   "pygments_lexer": "ipython3",
   "version": "3.8.3"
  }
 },
 "nbformat": 4,
 "nbformat_minor": 4
}
